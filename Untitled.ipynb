{
 "cells": [
  {
   "cell_type": "code",
   "execution_count": 3,
   "metadata": {},
   "outputs": [],
   "source": [
    "import torch\n",
    "import torchvision"
   ]
  },
  {
   "cell_type": "code",
   "execution_count": 4,
   "metadata": {},
   "outputs": [],
   "source": [
    "import numpy as np\n",
    "import pandas as pd\n",
    "import seaborn as sb"
   ]
  },
  {
   "cell_type": "code",
   "execution_count": 5,
   "metadata": {},
   "outputs": [],
   "source": [
    "data= sb.load_dataset('iris')"
   ]
  },
  {
   "cell_type": "code",
   "execution_count": 6,
   "metadata": {},
   "outputs": [
    {
     "data": {
      "text/html": [
       "<div>\n",
       "<style scoped>\n",
       "    .dataframe tbody tr th:only-of-type {\n",
       "        vertical-align: middle;\n",
       "    }\n",
       "\n",
       "    .dataframe tbody tr th {\n",
       "        vertical-align: top;\n",
       "    }\n",
       "\n",
       "    .dataframe thead th {\n",
       "        text-align: right;\n",
       "    }\n",
       "</style>\n",
       "<table border=\"1\" class=\"dataframe\">\n",
       "  <thead>\n",
       "    <tr style=\"text-align: right;\">\n",
       "      <th></th>\n",
       "      <th>sepal_length</th>\n",
       "      <th>sepal_width</th>\n",
       "      <th>petal_length</th>\n",
       "      <th>petal_width</th>\n",
       "      <th>species</th>\n",
       "    </tr>\n",
       "  </thead>\n",
       "  <tbody>\n",
       "    <tr>\n",
       "      <th>0</th>\n",
       "      <td>5.1</td>\n",
       "      <td>3.5</td>\n",
       "      <td>1.4</td>\n",
       "      <td>0.2</td>\n",
       "      <td>setosa</td>\n",
       "    </tr>\n",
       "    <tr>\n",
       "      <th>1</th>\n",
       "      <td>4.9</td>\n",
       "      <td>3.0</td>\n",
       "      <td>1.4</td>\n",
       "      <td>0.2</td>\n",
       "      <td>setosa</td>\n",
       "    </tr>\n",
       "    <tr>\n",
       "      <th>2</th>\n",
       "      <td>4.7</td>\n",
       "      <td>3.2</td>\n",
       "      <td>1.3</td>\n",
       "      <td>0.2</td>\n",
       "      <td>setosa</td>\n",
       "    </tr>\n",
       "    <tr>\n",
       "      <th>3</th>\n",
       "      <td>4.6</td>\n",
       "      <td>3.1</td>\n",
       "      <td>1.5</td>\n",
       "      <td>0.2</td>\n",
       "      <td>setosa</td>\n",
       "    </tr>\n",
       "    <tr>\n",
       "      <th>4</th>\n",
       "      <td>5.0</td>\n",
       "      <td>3.6</td>\n",
       "      <td>1.4</td>\n",
       "      <td>0.2</td>\n",
       "      <td>setosa</td>\n",
       "    </tr>\n",
       "  </tbody>\n",
       "</table>\n",
       "</div>"
      ],
      "text/plain": [
       "   sepal_length  sepal_width  petal_length  petal_width species\n",
       "0           5.1          3.5           1.4          0.2  setosa\n",
       "1           4.9          3.0           1.4          0.2  setosa\n",
       "2           4.7          3.2           1.3          0.2  setosa\n",
       "3           4.6          3.1           1.5          0.2  setosa\n",
       "4           5.0          3.6           1.4          0.2  setosa"
      ]
     },
     "execution_count": 6,
     "metadata": {},
     "output_type": "execute_result"
    }
   ],
   "source": [
    "data.head()"
   ]
  },
  {
   "cell_type": "code",
   "execution_count": 7,
   "metadata": {},
   "outputs": [],
   "source": [
    "X= pd.DataFrame(data,columns=['petal_length','sepal_length']).astype('float32')\n",
    "y=data['sepal_length'].astype('float32')"
   ]
  },
  {
   "cell_type": "code",
   "execution_count": 8,
   "metadata": {},
   "outputs": [],
   "source": [
    "inputs= torch.tensor(X.values)\n",
    "target = torch.tensor(y.values)"
   ]
  },
  {
   "cell_type": "code",
   "execution_count": 9,
   "metadata": {},
   "outputs": [],
   "source": [
    "import torch.nn as nn\n",
    "import torch.nn.functional as F\n"
   ]
  },
  {
   "cell_type": "code",
   "execution_count": 10,
   "metadata": {},
   "outputs": [],
   "source": [
    "model= nn.Linear(2,1)"
   ]
  },
  {
   "cell_type": "code",
   "execution_count": 11,
   "metadata": {},
   "outputs": [],
   "source": [
    "loss_fn = F.mse_loss"
   ]
  },
  {
   "cell_type": "code",
   "execution_count": 12,
   "metadata": {},
   "outputs": [],
   "source": [
    "opt = torch.optim.SGD(model.parameters(),lr= 0.01)"
   ]
  },
  {
   "cell_type": "code",
   "execution_count": 13,
   "metadata": {},
   "outputs": [],
   "source": [
    "def fit(no_epoch,model,loss_fn,opt):\n",
    "    \n",
    "    for epoch in range(no_epoch):\n",
    "        \n",
    "        preds = model(inputs)\n",
    "        \n",
    "        loss = loss_fn(preds, target)\n",
    "        \n",
    "        loss.backward()\n",
    "        \n",
    "        opt.step()\n",
    "        \n",
    "        opt.zero_grad()\n",
    "        \n",
    "        if (epoch+1) %100 == 0:\n",
    "            \n",
    "            print('No of Epoch : [{}/{}], loss :  {:.4f}'.format(epoch+1,no_epoch,loss.item()))"
   ]
  },
  {
   "cell_type": "code",
   "execution_count": 14,
   "metadata": {},
   "outputs": [
    {
     "name": "stderr",
     "output_type": "stream",
     "text": [
      "<ipython-input-13-3337ed215bba>:7: UserWarning: Using a target size (torch.Size([150])) that is different to the input size (torch.Size([150, 1])). This will likely lead to incorrect results due to broadcasting. Please ensure they have the same size.\n",
      "  loss = loss_fn(preds, target)\n"
     ]
    },
    {
     "name": "stdout",
     "output_type": "stream",
     "text": [
      "No of Epoch : [100/500], loss :  0.8902\n",
      "No of Epoch : [200/500], loss :  0.8702\n",
      "No of Epoch : [300/500], loss :  0.8642\n",
      "No of Epoch : [400/500], loss :  0.8584\n",
      "No of Epoch : [500/500], loss :  0.8529\n"
     ]
    }
   ],
   "source": [
    "fit(500,model,loss_fn,opt)"
   ]
  },
  {
   "cell_type": "code",
   "execution_count": 15,
   "metadata": {},
   "outputs": [
    {
     "name": "stdout",
     "output_type": "stream",
     "text": [
      "torch.Size([150, 1])\n"
     ]
    }
   ],
   "source": [
    "preds = model(inputs)\n",
    "print(preds.shape)"
   ]
  },
  {
   "cell_type": "code",
   "execution_count": 16,
   "metadata": {
    "scrolled": true
   },
   "outputs": [
    {
     "data": {
      "text/plain": [
       "torch.Size([150])"
      ]
     },
     "execution_count": 16,
     "metadata": {},
     "output_type": "execute_result"
    }
   ],
   "source": [
    "target.shape"
   ]
  },
  {
   "cell_type": "code",
   "execution_count": 45,
   "metadata": {},
   "outputs": [],
   "source": [
    "w= torch.randn(1,2,requires_grad=True)\n",
    "b= torch.randn(1,requires_grad= True)"
   ]
  },
  {
   "cell_type": "code",
   "execution_count": 46,
   "metadata": {},
   "outputs": [
    {
     "data": {
      "text/plain": [
       "tensor([[-0.0432, -0.9511]], requires_grad=True)"
      ]
     },
     "execution_count": 46,
     "metadata": {},
     "output_type": "execute_result"
    }
   ],
   "source": [
    "w"
   ]
  },
  {
   "cell_type": "code",
   "execution_count": 47,
   "metadata": {},
   "outputs": [
    {
     "data": {
      "text/plain": [
       "tensor([-1.0781], requires_grad=True)"
      ]
     },
     "execution_count": 47,
     "metadata": {},
     "output_type": "execute_result"
    }
   ],
   "source": [
    "b"
   ]
  },
  {
   "cell_type": "code",
   "execution_count": 48,
   "metadata": {},
   "outputs": [],
   "source": [
    "def model(x):\n",
    "    return x@w.t() +b"
   ]
  },
  {
   "cell_type": "code",
   "execution_count": 49,
   "metadata": {},
   "outputs": [
    {
     "data": {
      "text/plain": [
       "tensor([[-5.9892],\n",
       "        [-5.7989],\n",
       "        [-5.6044],\n",
       "        [-5.5179],\n",
       "        [-5.8941],\n",
       "        [-6.2874],\n",
       "        [-5.5136],\n",
       "        [-5.8984],\n",
       "        [-5.3234],\n",
       "        [-5.8033],\n",
       "        [-6.2788],\n",
       "        [-5.7125],\n",
       "        [-5.7038],\n",
       "        [-5.2153],\n",
       "        [-6.6463],\n",
       "        [-6.5641],\n",
       "        [-6.2702],\n",
       "        [-5.9892],\n",
       "        [-6.5728],\n",
       "        [-5.9935],\n",
       "        [-6.2874],\n",
       "        [-5.9935],\n",
       "        [-5.4963],\n",
       "        [-6.0021],\n",
       "        [-5.7254],\n",
       "        [-5.9027],\n",
       "        [-5.9027],\n",
       "        [-6.0886],\n",
       "        [-6.0843],\n",
       "        [-5.6173],\n",
       "        [-5.7125],\n",
       "        [-6.2788],\n",
       "        [-6.0886],\n",
       "        [-6.3696],\n",
       "        [-5.8033],\n",
       "        [-5.8854],\n",
       "        [-6.3653],\n",
       "        [-5.7989],\n",
       "        [-5.3191],\n",
       "        [-5.9935],\n",
       "        [-5.8897],\n",
       "        [-5.4142],\n",
       "        [-5.3191],\n",
       "        [-5.9027],\n",
       "        [-6.0107],\n",
       "        [-5.7038],\n",
       "        [-5.9978],\n",
       "        [-5.5136],\n",
       "        [-6.1837],\n",
       "        [-5.8941],\n",
       "        [-7.9387],\n",
       "        [-7.3594],\n",
       "        [-7.8522],\n",
       "        [-6.4818],\n",
       "        [-7.4588],\n",
       "        [-6.6936],\n",
       "        [-7.2729],\n",
       "        [-5.8809],\n",
       "        [-7.5539],\n",
       "        [-6.1921],\n",
       "        [-5.9847],\n",
       "        [-6.8709],\n",
       "        [-6.9574],\n",
       "        [-7.0827],\n",
       "        [-6.5596],\n",
       "        [-7.6404],\n",
       "        [-6.5985],\n",
       "        [-6.7714],\n",
       "        [-7.1692],\n",
       "        [-6.5726],\n",
       "        [-6.8968],\n",
       "        [-7.0525],\n",
       "        [-7.2815],\n",
       "        [-7.0827],\n",
       "        [-7.3507],\n",
       "        [-7.5453],\n",
       "        [-7.7528],\n",
       "        [-7.6663],\n",
       "        [-6.9789],\n",
       "        [-6.6504],\n",
       "        [-6.4732],\n",
       "        [-6.4689],\n",
       "        [-6.7628],\n",
       "        [-7.0048],\n",
       "        [-6.4083],\n",
       "        [-6.9789],\n",
       "        [-7.6533],\n",
       "        [-7.2599],\n",
       "        [-6.5812],\n",
       "        [-6.4818],\n",
       "        [-6.4991],\n",
       "        [-7.0784],\n",
       "        [-6.7671],\n",
       "        [-5.9760],\n",
       "        [-6.5855],\n",
       "        [-6.6807],\n",
       "        [-6.6807],\n",
       "        [-7.1605],\n",
       "        [-6.0582],\n",
       "        [-6.6763],\n",
       "        [-7.3290],\n",
       "        [-6.8146],\n",
       "        [-8.0856],\n",
       "        [-7.3117],\n",
       "        [-7.5106],\n",
       "        [-8.5913],\n",
       "        [-5.9327],\n",
       "        [-8.2930],\n",
       "        [-7.7008],\n",
       "        [-8.1893],\n",
       "        [-7.4804],\n",
       "        [-7.3939],\n",
       "        [-7.7830],\n",
       "        [-6.7152],\n",
       "        [-6.8146],\n",
       "        [-7.3939],\n",
       "        [-7.4976],\n",
       "        [-8.6908],\n",
       "        [-8.6994],\n",
       "        [-7.0005],\n",
       "        [-7.8867],\n",
       "        [-6.6157],\n",
       "        [-8.6908],\n",
       "        [-7.2815],\n",
       "        [-7.6965],\n",
       "        [-8.1850],\n",
       "        [-7.1821],\n",
       "        [-7.0913],\n",
       "        [-7.4068],\n",
       "        [-8.1764],\n",
       "        [-8.3795],\n",
       "        [-8.8680],\n",
       "        [-7.4068],\n",
       "        [-7.2902],\n",
       "        [-7.1215],\n",
       "        [-8.6649],\n",
       "        [-7.3117],\n",
       "        [-7.4025],\n",
       "        [-6.9919],\n",
       "        [-7.8738],\n",
       "        [-7.6922],\n",
       "        [-7.8608],\n",
       "        [-6.8146],\n",
       "        [-7.8002],\n",
       "        [-7.6965],\n",
       "        [-7.6749],\n",
       "        [-7.2858],\n",
       "        [-7.4847],\n",
       "        [-7.2080],\n",
       "        [-6.9097]], grad_fn=<AddBackward0>)"
      ]
     },
     "execution_count": 49,
     "metadata": {},
     "output_type": "execute_result"
    }
   ],
   "source": [
    "model(inputs)"
   ]
  },
  {
   "cell_type": "code",
   "execution_count": 50,
   "metadata": {},
   "outputs": [],
   "source": [
    "from sklearn.linear_model import LinearRegression"
   ]
  },
  {
   "cell_type": "code",
   "execution_count": 52,
   "metadata": {},
   "outputs": [],
   "source": [
    "lr = LinearRegression()"
   ]
  },
  {
   "cell_type": "code",
   "execution_count": 53,
   "metadata": {},
   "outputs": [],
   "source": [
    "from sklearn.preprocessing import MinMaxScaler"
   ]
  },
  {
   "cell_type": "code",
   "execution_count": 54,
   "metadata": {},
   "outputs": [],
   "source": [
    "from sklearn.model_selection import train_test_split"
   ]
  },
  {
   "cell_type": "code",
   "execution_count": 61,
   "metadata": {},
   "outputs": [],
   "source": [
    "y= y.values.reshape(-1,1)"
   ]
  },
  {
   "cell_type": "code",
   "execution_count": 62,
   "metadata": {},
   "outputs": [],
   "source": [
    "X_train,X_test,y_train,y_test = train_test_split(X,y,test_size=0.3, random_state=4, shuffle= True)"
   ]
  },
  {
   "cell_type": "code",
   "execution_count": 63,
   "metadata": {},
   "outputs": [],
   "source": [
    "minmax = MinMaxScaler()\n",
    "minmax1 = MinMaxScaler()\n"
   ]
  },
  {
   "cell_type": "code",
   "execution_count": 64,
   "metadata": {},
   "outputs": [],
   "source": [
    "X_train= minmax.fit_transform(X_train)\n",
    "X_test = minmax.transform(X_test)\n",
    "y_train = minmax1.fit_transform(y_train)\n",
    "y_test = minmax1.transform(y_test)"
   ]
  },
  {
   "cell_type": "code",
   "execution_count": 65,
   "metadata": {},
   "outputs": [
    {
     "data": {
      "text/plain": [
       "LinearRegression()"
      ]
     },
     "execution_count": 65,
     "metadata": {},
     "output_type": "execute_result"
    }
   ],
   "source": [
    "lr.fit(X_train,y_train)"
   ]
  },
  {
   "cell_type": "code",
   "execution_count": 67,
   "metadata": {},
   "outputs": [
    {
     "data": {
      "text/plain": [
       "0.9999999999999476"
      ]
     },
     "execution_count": 67,
     "metadata": {},
     "output_type": "execute_result"
    }
   ],
   "source": [
    "lr.score(X_test,y_test)"
   ]
  },
  {
   "cell_type": "code",
   "execution_count": 69,
   "metadata": {},
   "outputs": [
    {
     "data": {
      "text/plain": [
       "array([[9.0799709e-08],\n",
       "       [3.8888881e-01],\n",
       "       [4.4444442e-01],\n",
       "       [5.0000000e-01],\n",
       "       [6.1111104e-01],\n",
       "       [2.4999990e-01],\n",
       "       [3.6111107e-01],\n",
       "       [9.4444418e-01],\n",
       "       [5.5555558e-01],\n",
       "       [5.2777767e-01],\n",
       "       [3.8888887e-01],\n",
       "       [1.9444446e-01],\n",
       "       [3.6111107e-01],\n",
       "       [4.7222221e-01],\n",
       "       [3.3333340e-01],\n",
       "       [8.3333321e-02],\n",
       "       [3.6111107e-01],\n",
       "       [2.2222224e-01],\n",
       "       [5.8333337e-01],\n",
       "       [6.9444454e-01],\n",
       "       [6.6666663e-01],\n",
       "       [6.1111104e-01],\n",
       "       [4.7222221e-01],\n",
       "       [1.6666667e-01],\n",
       "       [1.6666672e-01],\n",
       "       [7.2222209e-01],\n",
       "       [3.0555558e-01],\n",
       "       [3.3333340e-01],\n",
       "       [5.5555558e-01],\n",
       "       [1.9444445e-01],\n",
       "       [5.0000000e-01],\n",
       "       [6.1111104e-01],\n",
       "       [4.4444442e-01],\n",
       "       [5.5555558e-01],\n",
       "       [1.6666667e-01],\n",
       "       [5.0000000e-01],\n",
       "       [5.8333337e-01],\n",
       "       [7.7777767e-01],\n",
       "       [3.3333337e-01],\n",
       "       [5.8333337e-01],\n",
       "       [3.3333340e-01],\n",
       "       [7.2222209e-01],\n",
       "       [4.1666675e-01],\n",
       "       [4.1666678e-01],\n",
       "       [4.9999997e-01],\n",
       "       [4.4444442e-01],\n",
       "       [5.2777767e-01],\n",
       "       [3.8888887e-01],\n",
       "       [6.3888884e-01],\n",
       "       [4.1666678e-01],\n",
       "       [4.7222221e-01],\n",
       "       [4.1666675e-01],\n",
       "       [8.3333321e-02],\n",
       "       [6.6666663e-01],\n",
       "       [2.2222224e-01],\n",
       "       [6.9444442e-01],\n",
       "       [2.7777779e-01],\n",
       "       [2.4999994e-01],\n",
       "       [5.0000000e-01],\n",
       "       [3.3333340e-01],\n",
       "       [3.3333340e-01],\n",
       "       [2.2222224e-01],\n",
       "       [6.6666663e-01],\n",
       "       [4.7222221e-01],\n",
       "       [3.8888887e-01],\n",
       "       [2.2222225e-01],\n",
       "       [3.8888884e-01],\n",
       "       [8.3333328e-02],\n",
       "       [2.4999990e-01],\n",
       "       [7.2222209e-01],\n",
       "       [3.6111107e-01],\n",
       "       [3.3333337e-01],\n",
       "       [1.3888901e-01],\n",
       "       [2.7777877e-02],\n",
       "       [5.8333337e-01],\n",
       "       [1.9444445e-01],\n",
       "       [2.4999990e-01],\n",
       "       [5.5555558e-01],\n",
       "       [6.9444454e-01],\n",
       "       [3.6111107e-01],\n",
       "       [1.9444445e-01],\n",
       "       [2.7777879e-02],\n",
       "       [1.3888901e-01],\n",
       "       [9.4444418e-01],\n",
       "       [5.5555558e-01],\n",
       "       [2.2222224e-01],\n",
       "       [2.2222224e-01],\n",
       "       [1.0000000e+00],\n",
       "       [7.2222209e-01],\n",
       "       [5.2777767e-01],\n",
       "       [2.7777877e-02],\n",
       "       [2.2222224e-01],\n",
       "       [6.1111104e-01],\n",
       "       [1.6666670e-01],\n",
       "       [3.8888887e-01],\n",
       "       [3.6111107e-01],\n",
       "       [8.0555534e-01],\n",
       "       [5.5555558e-01],\n",
       "       [6.3888884e-01],\n",
       "       [5.8333337e-01],\n",
       "       [7.4999988e-01],\n",
       "       [5.5555558e-01],\n",
       "       [6.1111104e-01],\n",
       "       [8.0555534e-01],\n",
       "       [9.4444418e-01]], dtype=float32)"
      ]
     },
     "execution_count": 69,
     "metadata": {},
     "output_type": "execute_result"
    }
   ],
   "source": [
    "lr.predict(X_train)"
   ]
  },
  {
   "cell_type": "code",
   "execution_count": null,
   "metadata": {},
   "outputs": [],
   "source": []
  }
 ],
 "metadata": {
  "kernelspec": {
   "display_name": "Python 3",
   "language": "python",
   "name": "python3"
  },
  "language_info": {
   "codemirror_mode": {
    "name": "ipython",
    "version": 3
   },
   "file_extension": ".py",
   "mimetype": "text/x-python",
   "name": "python",
   "nbconvert_exporter": "python",
   "pygments_lexer": "ipython3",
   "version": "3.8.5"
  }
 },
 "nbformat": 4,
 "nbformat_minor": 4
}
