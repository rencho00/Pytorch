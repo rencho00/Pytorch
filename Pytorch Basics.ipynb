{
 "cells": [
  {
   "cell_type": "code",
   "execution_count": 2,
   "metadata": {},
   "outputs": [],
   "source": [
    "import torch as tr"
   ]
  },
  {
   "cell_type": "code",
   "execution_count": 3,
   "metadata": {},
   "outputs": [],
   "source": [
    "t1=tr.tensor(4)"
   ]
  },
  {
   "cell_type": "markdown",
   "metadata": {},
   "source": [
    "t1.dtype"
   ]
  },
  {
   "cell_type": "code",
   "execution_count": 4,
   "metadata": {},
   "outputs": [
    {
     "data": {
      "text/plain": [
       "torch.int64"
      ]
     },
     "execution_count": 4,
     "metadata": {},
     "output_type": "execute_result"
    }
   ],
   "source": [
    "t1.dtype"
   ]
  },
  {
   "cell_type": "code",
   "execution_count": 5,
   "metadata": {},
   "outputs": [],
   "source": [
    "t2= tr.tensor([[1,2,3],[4,5,6]])"
   ]
  },
  {
   "cell_type": "code",
   "execution_count": 6,
   "metadata": {},
   "outputs": [
    {
     "data": {
      "text/plain": [
       "torch.Size([2, 3])"
      ]
     },
     "execution_count": 6,
     "metadata": {},
     "output_type": "execute_result"
    }
   ],
   "source": [
    "t2.shape"
   ]
  },
  {
   "cell_type": "code",
   "execution_count": 7,
   "metadata": {},
   "outputs": [],
   "source": [
    "x= tr.tensor(3.)\n",
    "w= tr.tensor(4.,requires_grad = True)\n",
    "b= tr.tensor(5., requires_grad= True)"
   ]
  },
  {
   "cell_type": "code",
   "execution_count": 9,
   "metadata": {},
   "outputs": [
    {
     "data": {
      "text/plain": [
       "tensor(17., grad_fn=<AddBackward0>)"
      ]
     },
     "execution_count": 9,
     "metadata": {},
     "output_type": "execute_result"
    }
   ],
   "source": [
    "y= w*x+b\n",
    "y"
   ]
  },
  {
   "cell_type": "code",
   "execution_count": 320,
   "metadata": {},
   "outputs": [],
   "source": [
    "y.backward()"
   ]
  },
  {
   "cell_type": "code",
   "execution_count": 321,
   "metadata": {},
   "outputs": [
    {
     "name": "stdout",
     "output_type": "stream",
     "text": [
      "None\n",
      "tensor(3.)\n",
      "tensor(1.)\n"
     ]
    }
   ],
   "source": [
    "print(x.grad)\n",
    "print(w.grad)\n",
    "print(b.grad)"
   ]
  },
  {
   "cell_type": "code",
   "execution_count": 322,
   "metadata": {},
   "outputs": [],
   "source": [
    "t3= tr.tensor(4.)\n",
    "t4 = tr.tensor(5.,requires_grad=True)\n",
    "t5 = tr.tensor(6.,requires_grad=True)"
   ]
  },
  {
   "cell_type": "code",
   "execution_count": 323,
   "metadata": {},
   "outputs": [],
   "source": [
    "t= t3+t4\n",
    "t.backward()"
   ]
  },
  {
   "cell_type": "code",
   "execution_count": 324,
   "metadata": {},
   "outputs": [
    {
     "name": "stdout",
     "output_type": "stream",
     "text": [
      "None\n"
     ]
    },
    {
     "name": "stderr",
     "output_type": "stream",
     "text": [
      "<ipython-input-324-9766b7f3a2f6>:1: UserWarning: The .grad attribute of a Tensor that is not a leaf Tensor is being accessed. Its .grad attribute won't be populated during autograd.backward(). If you indeed want the gradient for a non-leaf Tensor, use .retain_grad() on the non-leaf Tensor. If you access the non-leaf Tensor by mistake, make sure you access the leaf Tensor instead. See github.com/pytorch/pytorch/pull/30531 for more informations.\n",
      "  print(t.grad)\n"
     ]
    }
   ],
   "source": [
    "print(t.grad)"
   ]
  },
  {
   "cell_type": "code",
   "execution_count": 325,
   "metadata": {},
   "outputs": [
    {
     "name": "stdout",
     "output_type": "stream",
     "text": [
      "None\n",
      "tensor(1.)\n"
     ]
    }
   ],
   "source": [
    "print(t3.grad)\n",
    "print(t4.grad)"
   ]
  },
  {
   "cell_type": "code",
   "execution_count": 12,
   "metadata": {},
   "outputs": [],
   "source": [
    "import numpy as np\n",
    "import pandas as pd"
   ]
  },
  {
   "cell_type": "code",
   "execution_count": 13,
   "metadata": {},
   "outputs": [],
   "source": [
    "n= np.array([[1,2,3],[2,3,5]])"
   ]
  },
  {
   "cell_type": "code",
   "execution_count": 14,
   "metadata": {},
   "outputs": [],
   "source": [
    "z= tr.from_numpy(n)"
   ]
  },
  {
   "cell_type": "code",
   "execution_count": 15,
   "metadata": {},
   "outputs": [
    {
     "data": {
      "text/plain": [
       "tensor([[1, 2, 3],\n",
       "        [2, 3, 5]], dtype=torch.int32)"
      ]
     },
     "execution_count": 15,
     "metadata": {},
     "output_type": "execute_result"
    }
   ],
   "source": [
    "z"
   ]
  },
  {
   "cell_type": "code",
   "execution_count": 16,
   "metadata": {},
   "outputs": [],
   "source": [
    "y=z.numpy()"
   ]
  },
  {
   "cell_type": "code",
   "execution_count": 17,
   "metadata": {},
   "outputs": [
    {
     "data": {
      "text/plain": [
       "array([[1, 2, 3],\n",
       "       [2, 3, 5]])"
      ]
     },
     "execution_count": 17,
     "metadata": {},
     "output_type": "execute_result"
    }
   ],
   "source": [
    "y"
   ]
  },
  {
   "cell_type": "code",
   "execution_count": 18,
   "metadata": {},
   "outputs": [],
   "source": [
    "import seaborn as sb\n",
    "import pandas as pd"
   ]
  },
  {
   "cell_type": "code",
   "execution_count": 19,
   "metadata": {},
   "outputs": [],
   "source": [
    "data=sb.load_dataset('iris')"
   ]
  },
  {
   "cell_type": "code",
   "execution_count": 20,
   "metadata": {},
   "outputs": [
    {
     "data": {
      "text/html": [
       "<div>\n",
       "<style scoped>\n",
       "    .dataframe tbody tr th:only-of-type {\n",
       "        vertical-align: middle;\n",
       "    }\n",
       "\n",
       "    .dataframe tbody tr th {\n",
       "        vertical-align: top;\n",
       "    }\n",
       "\n",
       "    .dataframe thead th {\n",
       "        text-align: right;\n",
       "    }\n",
       "</style>\n",
       "<table border=\"1\" class=\"dataframe\">\n",
       "  <thead>\n",
       "    <tr style=\"text-align: right;\">\n",
       "      <th></th>\n",
       "      <th>sepal_length</th>\n",
       "      <th>sepal_width</th>\n",
       "      <th>petal_length</th>\n",
       "      <th>petal_width</th>\n",
       "      <th>species</th>\n",
       "    </tr>\n",
       "  </thead>\n",
       "  <tbody>\n",
       "    <tr>\n",
       "      <th>0</th>\n",
       "      <td>5.1</td>\n",
       "      <td>3.5</td>\n",
       "      <td>1.4</td>\n",
       "      <td>0.2</td>\n",
       "      <td>setosa</td>\n",
       "    </tr>\n",
       "    <tr>\n",
       "      <th>1</th>\n",
       "      <td>4.9</td>\n",
       "      <td>3.0</td>\n",
       "      <td>1.4</td>\n",
       "      <td>0.2</td>\n",
       "      <td>setosa</td>\n",
       "    </tr>\n",
       "    <tr>\n",
       "      <th>2</th>\n",
       "      <td>4.7</td>\n",
       "      <td>3.2</td>\n",
       "      <td>1.3</td>\n",
       "      <td>0.2</td>\n",
       "      <td>setosa</td>\n",
       "    </tr>\n",
       "    <tr>\n",
       "      <th>3</th>\n",
       "      <td>4.6</td>\n",
       "      <td>3.1</td>\n",
       "      <td>1.5</td>\n",
       "      <td>0.2</td>\n",
       "      <td>setosa</td>\n",
       "    </tr>\n",
       "    <tr>\n",
       "      <th>4</th>\n",
       "      <td>5.0</td>\n",
       "      <td>3.6</td>\n",
       "      <td>1.4</td>\n",
       "      <td>0.2</td>\n",
       "      <td>setosa</td>\n",
       "    </tr>\n",
       "  </tbody>\n",
       "</table>\n",
       "</div>"
      ],
      "text/plain": [
       "   sepal_length  sepal_width  petal_length  petal_width species\n",
       "0           5.1          3.5           1.4          0.2  setosa\n",
       "1           4.9          3.0           1.4          0.2  setosa\n",
       "2           4.7          3.2           1.3          0.2  setosa\n",
       "3           4.6          3.1           1.5          0.2  setosa\n",
       "4           5.0          3.6           1.4          0.2  setosa"
      ]
     },
     "execution_count": 20,
     "metadata": {},
     "output_type": "execute_result"
    }
   ],
   "source": [
    "data.head()"
   ]
  },
  {
   "cell_type": "code",
   "execution_count": 21,
   "metadata": {},
   "outputs": [],
   "source": [
    "data= data.drop(columns=['species','petal_width'],axis=1)"
   ]
  },
  {
   "cell_type": "code",
   "execution_count": 22,
   "metadata": {},
   "outputs": [
    {
     "data": {
      "text/html": [
       "<div>\n",
       "<style scoped>\n",
       "    .dataframe tbody tr th:only-of-type {\n",
       "        vertical-align: middle;\n",
       "    }\n",
       "\n",
       "    .dataframe tbody tr th {\n",
       "        vertical-align: top;\n",
       "    }\n",
       "\n",
       "    .dataframe thead th {\n",
       "        text-align: right;\n",
       "    }\n",
       "</style>\n",
       "<table border=\"1\" class=\"dataframe\">\n",
       "  <thead>\n",
       "    <tr style=\"text-align: right;\">\n",
       "      <th></th>\n",
       "      <th>sepal_length</th>\n",
       "      <th>sepal_width</th>\n",
       "      <th>petal_length</th>\n",
       "    </tr>\n",
       "  </thead>\n",
       "  <tbody>\n",
       "    <tr>\n",
       "      <th>0</th>\n",
       "      <td>5.1</td>\n",
       "      <td>3.5</td>\n",
       "      <td>1.4</td>\n",
       "    </tr>\n",
       "    <tr>\n",
       "      <th>1</th>\n",
       "      <td>4.9</td>\n",
       "      <td>3.0</td>\n",
       "      <td>1.4</td>\n",
       "    </tr>\n",
       "    <tr>\n",
       "      <th>2</th>\n",
       "      <td>4.7</td>\n",
       "      <td>3.2</td>\n",
       "      <td>1.3</td>\n",
       "    </tr>\n",
       "    <tr>\n",
       "      <th>3</th>\n",
       "      <td>4.6</td>\n",
       "      <td>3.1</td>\n",
       "      <td>1.5</td>\n",
       "    </tr>\n",
       "    <tr>\n",
       "      <th>4</th>\n",
       "      <td>5.0</td>\n",
       "      <td>3.6</td>\n",
       "      <td>1.4</td>\n",
       "    </tr>\n",
       "  </tbody>\n",
       "</table>\n",
       "</div>"
      ],
      "text/plain": [
       "   sepal_length  sepal_width  petal_length\n",
       "0           5.1          3.5           1.4\n",
       "1           4.9          3.0           1.4\n",
       "2           4.7          3.2           1.3\n",
       "3           4.6          3.1           1.5\n",
       "4           5.0          3.6           1.4"
      ]
     },
     "execution_count": 22,
     "metadata": {},
     "output_type": "execute_result"
    }
   ],
   "source": [
    "data.head()"
   ]
  },
  {
   "cell_type": "code",
   "execution_count": 36,
   "metadata": {},
   "outputs": [],
   "source": [
    "X= data.drop(columns=['sepal_length'],axis=1).astype('float32')\n",
    "Y=data['sepal_length'].astype('float32')"
   ]
  },
  {
   "cell_type": "code",
   "execution_count": 37,
   "metadata": {},
   "outputs": [],
   "source": [
    "X=pd.DataFrame(X).to_numpy()"
   ]
  },
  {
   "cell_type": "code",
   "execution_count": 38,
   "metadata": {},
   "outputs": [],
   "source": [
    "Y= pd.DataFrame(Y).to_numpy()"
   ]
  },
  {
   "cell_type": "code",
   "execution_count": 39,
   "metadata": {},
   "outputs": [],
   "source": [
    "inputs= tr.from_numpy(X)\n",
    "target = tr.from_numpy(Y)"
   ]
  },
  {
   "cell_type": "code",
   "execution_count": 71,
   "metadata": {},
   "outputs": [
    {
     "name": "stdout",
     "output_type": "stream",
     "text": [
      "tensor([[3.5000, 1.4000],\n",
      "        [3.0000, 1.4000],\n",
      "        [3.2000, 1.3000],\n",
      "        [3.1000, 1.5000],\n",
      "        [3.6000, 1.4000],\n",
      "        [3.9000, 1.7000],\n",
      "        [3.4000, 1.4000],\n",
      "        [3.4000, 1.5000],\n",
      "        [2.9000, 1.4000],\n",
      "        [3.1000, 1.5000],\n",
      "        [3.7000, 1.5000],\n",
      "        [3.4000, 1.6000],\n",
      "        [3.0000, 1.4000],\n",
      "        [3.0000, 1.1000],\n",
      "        [4.0000, 1.2000],\n",
      "        [4.4000, 1.5000],\n",
      "        [3.9000, 1.3000],\n",
      "        [3.5000, 1.4000],\n",
      "        [3.8000, 1.7000],\n",
      "        [3.8000, 1.5000],\n",
      "        [3.4000, 1.7000],\n",
      "        [3.7000, 1.5000],\n",
      "        [3.6000, 1.0000],\n",
      "        [3.3000, 1.7000],\n",
      "        [3.4000, 1.9000],\n",
      "        [3.0000, 1.6000],\n",
      "        [3.4000, 1.6000],\n",
      "        [3.5000, 1.5000],\n",
      "        [3.4000, 1.4000],\n",
      "        [3.2000, 1.6000],\n",
      "        [3.1000, 1.6000],\n",
      "        [3.4000, 1.5000],\n",
      "        [4.1000, 1.5000],\n",
      "        [4.2000, 1.4000],\n",
      "        [3.1000, 1.5000],\n",
      "        [3.2000, 1.2000],\n",
      "        [3.5000, 1.3000],\n",
      "        [3.6000, 1.4000],\n",
      "        [3.0000, 1.3000],\n",
      "        [3.4000, 1.5000],\n",
      "        [3.5000, 1.3000],\n",
      "        [2.3000, 1.3000],\n",
      "        [3.2000, 1.3000],\n",
      "        [3.5000, 1.6000],\n",
      "        [3.8000, 1.9000],\n",
      "        [3.0000, 1.4000],\n",
      "        [3.8000, 1.6000],\n",
      "        [3.2000, 1.4000],\n",
      "        [3.7000, 1.5000],\n",
      "        [3.3000, 1.4000],\n",
      "        [3.2000, 4.7000],\n",
      "        [3.2000, 4.5000],\n",
      "        [3.1000, 4.9000],\n",
      "        [2.3000, 4.0000],\n",
      "        [2.8000, 4.6000],\n",
      "        [2.8000, 4.5000],\n",
      "        [3.3000, 4.7000],\n",
      "        [2.4000, 3.3000],\n",
      "        [2.9000, 4.6000],\n",
      "        [2.7000, 3.9000],\n",
      "        [2.0000, 3.5000],\n",
      "        [3.0000, 4.2000],\n",
      "        [2.2000, 4.0000],\n",
      "        [2.9000, 4.7000],\n",
      "        [2.9000, 3.6000],\n",
      "        [3.1000, 4.4000],\n",
      "        [3.0000, 4.5000],\n",
      "        [2.7000, 4.1000],\n",
      "        [2.2000, 4.5000],\n",
      "        [2.5000, 3.9000],\n",
      "        [3.2000, 4.8000],\n",
      "        [2.8000, 4.0000],\n",
      "        [2.5000, 4.9000],\n",
      "        [2.8000, 4.7000],\n",
      "        [2.9000, 4.3000],\n",
      "        [3.0000, 4.4000],\n",
      "        [2.8000, 4.8000],\n",
      "        [3.0000, 5.0000],\n",
      "        [2.9000, 4.5000],\n",
      "        [2.6000, 3.5000],\n",
      "        [2.4000, 3.8000],\n",
      "        [2.4000, 3.7000],\n",
      "        [2.7000, 3.9000],\n",
      "        [2.7000, 5.1000],\n",
      "        [3.0000, 4.5000],\n",
      "        [3.4000, 4.5000],\n",
      "        [3.1000, 4.7000],\n",
      "        [2.3000, 4.4000],\n",
      "        [3.0000, 4.1000],\n",
      "        [2.5000, 4.0000],\n",
      "        [2.6000, 4.4000],\n",
      "        [3.0000, 4.6000],\n",
      "        [2.6000, 4.0000],\n",
      "        [2.3000, 3.3000],\n",
      "        [2.7000, 4.2000],\n",
      "        [3.0000, 4.2000],\n",
      "        [2.9000, 4.2000],\n",
      "        [2.9000, 4.3000],\n",
      "        [2.5000, 3.0000],\n",
      "        [2.8000, 4.1000],\n",
      "        [3.3000, 6.0000],\n",
      "        [2.7000, 5.1000],\n",
      "        [3.0000, 5.9000],\n",
      "        [2.9000, 5.6000],\n",
      "        [3.0000, 5.8000],\n",
      "        [3.0000, 6.6000],\n",
      "        [2.5000, 4.5000],\n",
      "        [2.9000, 6.3000],\n",
      "        [2.5000, 5.8000],\n",
      "        [3.6000, 6.1000],\n",
      "        [3.2000, 5.1000],\n",
      "        [2.7000, 5.3000],\n",
      "        [3.0000, 5.5000],\n",
      "        [2.5000, 5.0000],\n",
      "        [2.8000, 5.1000],\n",
      "        [3.2000, 5.3000],\n",
      "        [3.0000, 5.5000],\n",
      "        [3.8000, 6.7000],\n",
      "        [2.6000, 6.9000],\n",
      "        [2.2000, 5.0000],\n",
      "        [3.2000, 5.7000],\n",
      "        [2.8000, 4.9000],\n",
      "        [2.8000, 6.7000],\n",
      "        [2.7000, 4.9000],\n",
      "        [3.3000, 5.7000],\n",
      "        [3.2000, 6.0000],\n",
      "        [2.8000, 4.8000],\n",
      "        [3.0000, 4.9000],\n",
      "        [2.8000, 5.6000],\n",
      "        [3.0000, 5.8000],\n",
      "        [2.8000, 6.1000],\n",
      "        [3.8000, 6.4000],\n",
      "        [2.8000, 5.6000],\n",
      "        [2.8000, 5.1000],\n",
      "        [2.6000, 5.6000],\n",
      "        [3.0000, 6.1000],\n",
      "        [3.4000, 5.6000],\n",
      "        [3.1000, 5.5000],\n",
      "        [3.0000, 4.8000],\n",
      "        [3.1000, 5.4000],\n",
      "        [3.1000, 5.6000],\n",
      "        [3.1000, 5.1000],\n",
      "        [2.7000, 5.1000],\n",
      "        [3.2000, 5.9000],\n",
      "        [3.3000, 5.7000],\n",
      "        [3.0000, 5.2000],\n",
      "        [2.5000, 5.0000],\n",
      "        [3.0000, 5.2000],\n",
      "        [3.4000, 5.4000],\n",
      "        [3.0000, 5.1000]])\n"
     ]
    }
   ],
   "source": [
    "print(inputs)"
   ]
  },
  {
   "cell_type": "code",
   "execution_count": 128,
   "metadata": {},
   "outputs": [],
   "source": [
    "w= tr.randn(1,2,requires_grad= True)\n",
    "b= tr.randn(1,requires_grad=True)"
   ]
  },
  {
   "cell_type": "code",
   "execution_count": 129,
   "metadata": {},
   "outputs": [
    {
     "name": "stdout",
     "output_type": "stream",
     "text": [
      "tensor([0.7697], requires_grad=True)\n",
      "tensor([[ 0.7660, -0.7891]], requires_grad=True)\n"
     ]
    }
   ],
   "source": [
    "print(b)\n",
    "print(w)"
   ]
  },
  {
   "cell_type": "code",
   "execution_count": 79,
   "metadata": {},
   "outputs": [],
   "source": [
    "def model(x):\n",
    "   return x@w.t()+b"
   ]
  },
  {
   "cell_type": "code",
   "execution_count": 80,
   "metadata": {},
   "outputs": [],
   "source": [
    "pred =model(inputs)"
   ]
  },
  {
   "cell_type": "code",
   "execution_count": 81,
   "metadata": {},
   "outputs": [
    {
     "name": "stdout",
     "output_type": "stream",
     "text": [
      "tensor([[4.9258],\n",
      "        [4.3777],\n",
      "        [4.6388],\n",
      "        [4.4454],\n",
      "        [5.0354],\n",
      "        [5.2387],\n",
      "        [4.8162],\n",
      "        [4.7743],\n",
      "        [4.2680],\n",
      "        [4.4454],\n",
      "        [5.1032],\n",
      "        [4.7324],\n",
      "        [4.3777],\n",
      "        [4.5033],\n",
      "        [5.5577],\n",
      "        [5.8706],\n",
      "        [5.4062],\n",
      "        [4.9258],\n",
      "        [5.1290],\n",
      "        [5.2128],\n",
      "        [4.6905],\n",
      "        [5.1032],\n",
      "        [5.2030],\n",
      "        [4.5809],\n",
      "        [4.6068],\n",
      "        [4.2939],\n",
      "        [4.7324],\n",
      "        [4.8839],\n",
      "        [4.8162],\n",
      "        [4.5132],\n",
      "        [4.4035],\n",
      "        [4.7743],\n",
      "        [5.5417],\n",
      "        [5.6932],\n",
      "        [4.4454],\n",
      "        [4.6807],\n",
      "        [4.9677],\n",
      "        [5.0354],\n",
      "        [4.4196],\n",
      "        [4.7743],\n",
      "        [4.9677],\n",
      "        [3.6522],\n",
      "        [4.6388],\n",
      "        [4.8420],\n",
      "        [5.0453],\n",
      "        [4.3777],\n",
      "        [5.1709],\n",
      "        [4.5969],\n",
      "        [5.1032],\n",
      "        [4.7066],\n",
      "        [3.2148],\n",
      "        [3.2985],\n",
      "        [3.0214],\n",
      "        [2.5213],\n",
      "        [2.8181],\n",
      "        [2.8600],\n",
      "        [3.3244],\n",
      "        [2.9241],\n",
      "        [2.9278],\n",
      "        [3.0017],\n",
      "        [2.4018],\n",
      "        [3.2049],\n",
      "        [2.4117],\n",
      "        [2.8859],\n",
      "        [3.3466],\n",
      "        [3.2308],\n",
      "        [3.0793],\n",
      "        [2.9179],\n",
      "        [2.2022],\n",
      "        [2.7824],\n",
      "        [3.1729],\n",
      "        [3.0694],\n",
      "        [2.3636],\n",
      "        [2.7762],\n",
      "        [3.0534],\n",
      "        [3.1211],\n",
      "        [2.7344],\n",
      "        [2.8698],\n",
      "        [2.9696],\n",
      "        [3.0596],\n",
      "        [2.7147],\n",
      "        [2.7566],\n",
      "        [3.0017],\n",
      "        [2.4991],\n",
      "        [3.0793],\n",
      "        [3.5178],\n",
      "        [3.1051],\n",
      "        [2.3537],\n",
      "        [3.2468],\n",
      "        [2.7405],\n",
      "        [2.6826],\n",
      "        [3.0374],\n",
      "        [2.8502],\n",
      "        [2.8145],\n",
      "        [2.8760],\n",
      "        [3.2049],\n",
      "        [3.0953],\n",
      "        [3.0534],\n",
      "        [3.1594],\n",
      "        [3.0275],\n",
      "        [2.7799],\n",
      "        [2.4991],\n",
      "        [2.4929],\n",
      "        [2.5089],\n",
      "        [2.5348],\n",
      "        [2.1997],\n",
      "        [2.5311],\n",
      "        [2.2157],\n",
      "        [1.9866],\n",
      "        [3.0669],\n",
      "        [3.0472],\n",
      "        [2.4153],\n",
      "        [2.6604],\n",
      "        [2.3217],\n",
      "        [2.6087],\n",
      "        [2.9634],\n",
      "        [2.6604],\n",
      "        [3.0348],\n",
      "        [1.6355],\n",
      "        [1.9928],\n",
      "        [2.7959],\n",
      "        [2.6925],\n",
      "        [1.9386],\n",
      "        [2.5828],\n",
      "        [2.9055],\n",
      "        [2.6703],\n",
      "        [2.7344],\n",
      "        [2.9117],\n",
      "        [2.3993],\n",
      "        [2.5348],\n",
      "        [2.1899],\n",
      "        [3.1605],\n",
      "        [2.3993],\n",
      "        [2.6087],\n",
      "        [2.1800],\n",
      "        [2.4091],\n",
      "        [3.0571],\n",
      "        [2.7701],\n",
      "        [2.9536],\n",
      "        [2.8119],\n",
      "        [2.7282],\n",
      "        [2.9376],\n",
      "        [2.4991],\n",
      "        [2.7121],\n",
      "        [2.9055],\n",
      "        [2.7861],\n",
      "        [2.3217],\n",
      "        [2.7861],\n",
      "        [3.1408],\n",
      "        [2.8280]], grad_fn=<AddBackward0>)\n"
     ]
    }
   ],
   "source": [
    "print(pred)"
   ]
  },
  {
   "cell_type": "code",
   "execution_count": 82,
   "metadata": {},
   "outputs": [
    {
     "data": {
      "text/plain": [
       "tensor([[-1.7418e-01],\n",
       "        [-5.2233e-01],\n",
       "        [-6.1186e-02],\n",
       "        [-1.5458e-01],\n",
       "        [ 3.5444e-02],\n",
       "        [-1.6132e-01],\n",
       "        [ 2.1619e-01],\n",
       "        [-2.2570e-01],\n",
       "        [-1.3196e-01],\n",
       "        [-4.5458e-01],\n",
       "        [-2.9681e-01],\n",
       "        [-6.7581e-02],\n",
       "        [-4.2233e-01],\n",
       "        [ 2.0333e-01],\n",
       "        [-2.4227e-01],\n",
       "        [ 1.7059e-01],\n",
       "        [ 6.2137e-03],\n",
       "        [-1.7418e-01],\n",
       "        [-5.7095e-01],\n",
       "        [ 1.1282e-01],\n",
       "        [-7.0947e-01],\n",
       "        [ 3.1891e-03],\n",
       "        [ 6.0298e-01],\n",
       "        [-5.1909e-01],\n",
       "        [-1.9323e-01],\n",
       "        [-7.0610e-01],\n",
       "        [-2.6758e-01],\n",
       "        [-3.1607e-01],\n",
       "        [-3.8381e-01],\n",
       "        [-1.8684e-01],\n",
       "        [-3.9647e-01],\n",
       "        [-6.2570e-01],\n",
       "        [ 3.4170e-01],\n",
       "        [ 1.9322e-01],\n",
       "        [-4.5458e-01],\n",
       "        [-3.1930e-01],\n",
       "        [-5.3230e-01],\n",
       "        [ 1.3544e-01],\n",
       "        [ 1.9557e-02],\n",
       "        [-3.2570e-01],\n",
       "        [-3.2300e-02],\n",
       "        [-8.4784e-01],\n",
       "        [ 2.3881e-01],\n",
       "        [-1.5795e-01],\n",
       "        [-5.4719e-02],\n",
       "        [-4.2233e-01],\n",
       "        [ 7.0933e-02],\n",
       "        [-3.0699e-03],\n",
       "        [-1.9681e-01],\n",
       "        [-2.9344e-01],\n",
       "        [-3.7852e+00],\n",
       "        [-3.1015e+00],\n",
       "        [-3.8786e+00],\n",
       "        [-2.9787e+00],\n",
       "        [-3.6819e+00],\n",
       "        [-2.8400e+00],\n",
       "        [-2.9756e+00],\n",
       "        [-1.9759e+00],\n",
       "        [-3.6722e+00],\n",
       "        [-2.1983e+00],\n",
       "        [-2.5982e+00],\n",
       "        [-2.6951e+00],\n",
       "        [-3.5883e+00],\n",
       "        [-3.2141e+00],\n",
       "        [-2.2534e+00],\n",
       "        [-3.4692e+00],\n",
       "        [-2.5207e+00],\n",
       "        [-2.8821e+00],\n",
       "        [-3.9978e+00],\n",
       "        [-2.8176e+00],\n",
       "        [-2.7271e+00],\n",
       "        [-3.0306e+00],\n",
       "        [-3.9364e+00],\n",
       "        [-3.3238e+00],\n",
       "        [-3.3466e+00],\n",
       "        [-3.4789e+00],\n",
       "        [-4.0656e+00],\n",
       "        [-3.8302e+00],\n",
       "        [-3.0304e+00],\n",
       "        [-2.6404e+00],\n",
       "        [-2.7853e+00],\n",
       "        [-2.7434e+00],\n",
       "        [-2.7983e+00],\n",
       "        [-3.5009e+00],\n",
       "        [-2.3207e+00],\n",
       "        [-2.4822e+00],\n",
       "        [-3.5949e+00],\n",
       "        [-3.9463e+00],\n",
       "        [-2.3532e+00],\n",
       "        [-2.7595e+00],\n",
       "        [-2.8174e+00],\n",
       "        [-3.0626e+00],\n",
       "        [-2.9498e+00],\n",
       "        [-2.1855e+00],\n",
       "        [-2.7240e+00],\n",
       "        [-2.4951e+00],\n",
       "        [-2.6047e+00],\n",
       "        [-3.1466e+00],\n",
       "        [-1.9406e+00],\n",
       "        [-2.6725e+00],\n",
       "        [-3.5201e+00],\n",
       "        [-3.3009e+00],\n",
       "        [-4.6071e+00],\n",
       "        [-3.7911e+00],\n",
       "        [-3.9652e+00],\n",
       "        [-5.4003e+00],\n",
       "        [-2.3689e+00],\n",
       "        [-5.0843e+00],\n",
       "        [-4.7134e+00],\n",
       "        [-4.1331e+00],\n",
       "        [-3.4528e+00],\n",
       "        [-3.9847e+00],\n",
       "        [-4.1396e+00],\n",
       "        [-3.3783e+00],\n",
       "        [-3.1913e+00],\n",
       "        [-3.4366e+00],\n",
       "        [-3.8396e+00],\n",
       "        [-4.6652e+00],\n",
       "        [-6.0645e+00],\n",
       "        [-4.0072e+00],\n",
       "        [-4.1041e+00],\n",
       "        [-2.9075e+00],\n",
       "        [-5.7614e+00],\n",
       "        [-3.7172e+00],\n",
       "        [-3.7945e+00],\n",
       "        [-4.5297e+00],\n",
       "        [-3.4656e+00],\n",
       "        [-3.1883e+00],\n",
       "        [-4.0007e+00],\n",
       "        [-4.6652e+00],\n",
       "        [-5.2101e+00],\n",
       "        [-4.7395e+00],\n",
       "        [-4.0007e+00],\n",
       "        [-3.6913e+00],\n",
       "        [-3.9200e+00],\n",
       "        [-5.2909e+00],\n",
       "        [-3.2429e+00],\n",
       "        [-3.6299e+00],\n",
       "        [-3.0464e+00],\n",
       "        [-4.0881e+00],\n",
       "        [-3.9718e+00],\n",
       "        [-3.9624e+00],\n",
       "        [-3.3009e+00],\n",
       "        [-4.0879e+00],\n",
       "        [-3.7945e+00],\n",
       "        [-3.9139e+00],\n",
       "        [-3.9783e+00],\n",
       "        [-3.7139e+00],\n",
       "        [-3.0592e+00],\n",
       "        [-3.0720e+00]], grad_fn=<SubBackward0>)"
      ]
     },
     "execution_count": 82,
     "metadata": {},
     "output_type": "execute_result"
    }
   ],
   "source": [
    "diff =pred-target\n",
    "diff"
   ]
  },
  {
   "cell_type": "code",
   "execution_count": 83,
   "metadata": {},
   "outputs": [],
   "source": [
    "def mse(tp,ty):\n",
    "    diff = tp-ty\n",
    "    return tr.sum(diff*diff)/diff.numel()\n",
    "    "
   ]
  },
  {
   "cell_type": "code",
   "execution_count": 84,
   "metadata": {},
   "outputs": [],
   "source": [
    "loss = mse (pred,target)"
   ]
  },
  {
   "cell_type": "code",
   "execution_count": 85,
   "metadata": {},
   "outputs": [
    {
     "name": "stdout",
     "output_type": "stream",
     "text": [
      "tensor(8.6186, grad_fn=<DivBackward0>)\n"
     ]
    }
   ],
   "source": [
    "print(loss)"
   ]
  },
  {
   "cell_type": "code",
   "execution_count": 86,
   "metadata": {},
   "outputs": [],
   "source": [
    "loss.backward()"
   ]
  },
  {
   "cell_type": "code",
   "execution_count": 87,
   "metadata": {},
   "outputs": [
    {
     "name": "stdout",
     "output_type": "stream",
     "text": [
      "tensor([[ 1.0963, -0.4188]], requires_grad=True)\n",
      "tensor([[-13.8443, -23.8092]])\n"
     ]
    }
   ],
   "source": [
    "print(w)\n",
    "print(w.grad)"
   ]
  },
  {
   "cell_type": "code",
   "execution_count": 88,
   "metadata": {},
   "outputs": [
    {
     "name": "stdout",
     "output_type": "stream",
     "text": [
      "tensor([1.6752], requires_grad=True)\n",
      "tensor([-4.7809])\n"
     ]
    }
   ],
   "source": [
    "print(b)\n",
    "print(b.grad)"
   ]
  },
  {
   "cell_type": "code",
   "execution_count": 89,
   "metadata": {},
   "outputs": [],
   "source": [
    " with tr.no_grad():\n",
    "        w-=w.grad * 1e-5\n",
    "        b-=b.grad * 1e-5\n",
    "        w.grad.zero_()\n",
    "        b.grad.zero_()"
   ]
  },
  {
   "cell_type": "code",
   "execution_count": 90,
   "metadata": {},
   "outputs": [
    {
     "name": "stdout",
     "output_type": "stream",
     "text": [
      "tensor([[ 1.0964, -0.4186]], requires_grad=True)\n",
      "tensor([1.6752], requires_grad=True)\n"
     ]
    }
   ],
   "source": [
    "print(w)\n",
    "print(b)"
   ]
  },
  {
   "cell_type": "code",
   "execution_count": 92,
   "metadata": {},
   "outputs": [],
   "source": [
    "for i in range(100):\n",
    "    pred = model(inputs)\n",
    "    loss = mse(pred,target)\n",
    "    loss.backward()\n",
    "    with tr.no_grad():\n",
    "        w-=w.grad * 1e-5\n",
    "        b-=b.grad * 1e-5\n",
    "        w.grad.zero_()\n",
    "        b.grad.zero_()\n",
    "        "
   ]
  },
  {
   "cell_type": "code",
   "execution_count": 93,
   "metadata": {},
   "outputs": [
    {
     "name": "stdout",
     "output_type": "stream",
     "text": [
      "tensor(7.8621, grad_fn=<DivBackward0>)\n"
     ]
    }
   ],
   "source": [
    "pred = model(inputs)\n",
    "loss = mse(pred,target)\n",
    "print(loss)"
   ]
  },
  {
   "cell_type": "code",
   "execution_count": 94,
   "metadata": {},
   "outputs": [],
   "source": [
    "import torch.nn as nn"
   ]
  },
  {
   "cell_type": "code",
   "execution_count": 95,
   "metadata": {},
   "outputs": [],
   "source": [
    "from torch.utils.data import TensorDataset"
   ]
  },
  {
   "cell_type": "code",
   "execution_count": 96,
   "metadata": {},
   "outputs": [],
   "source": [
    "train_ds = TensorDataset(inputs,target)"
   ]
  },
  {
   "cell_type": "code",
   "execution_count": 97,
   "metadata": {},
   "outputs": [
    {
     "data": {
      "text/plain": [
       "<torch.utils.data.dataset.TensorDataset at 0x21a65f7afa0>"
      ]
     },
     "execution_count": 97,
     "metadata": {},
     "output_type": "execute_result"
    }
   ],
   "source": [
    "train_ds"
   ]
  },
  {
   "cell_type": "markdown",
   "metadata": {},
   "source": [
    "model"
   ]
  },
  {
   "cell_type": "code",
   "execution_count": 112,
   "metadata": {},
   "outputs": [],
   "source": [
    "model = nn.Linear(2,1)"
   ]
  },
  {
   "cell_type": "markdown",
   "metadata": {},
   "source": [
    "model.weight"
   ]
  },
  {
   "cell_type": "code",
   "execution_count": 113,
   "metadata": {},
   "outputs": [
    {
     "data": {
      "text/plain": [
       "Parameter containing:\n",
       "tensor([[-0.6332, -0.0540]], requires_grad=True)"
      ]
     },
     "execution_count": 113,
     "metadata": {},
     "output_type": "execute_result"
    }
   ],
   "source": [
    "model.weight"
   ]
  },
  {
   "cell_type": "code",
   "execution_count": 114,
   "metadata": {},
   "outputs": [
    {
     "data": {
      "text/plain": [
       "Parameter containing:\n",
       "tensor([0.3510], requires_grad=True)"
      ]
     },
     "execution_count": 114,
     "metadata": {},
     "output_type": "execute_result"
    }
   ],
   "source": [
    "model.bias"
   ]
  },
  {
   "cell_type": "code",
   "execution_count": 115,
   "metadata": {},
   "outputs": [
    {
     "data": {
      "text/plain": [
       "[Parameter containing:\n",
       " tensor([[-0.6332, -0.0540]], requires_grad=True),\n",
       " Parameter containing:\n",
       " tensor([0.3510], requires_grad=True)]"
      ]
     },
     "execution_count": 115,
     "metadata": {},
     "output_type": "execute_result"
    }
   ],
   "source": [
    "list(model.parameters())"
   ]
  },
  {
   "cell_type": "code",
   "execution_count": 116,
   "metadata": {},
   "outputs": [],
   "source": [
    "import torch.nn.functional as F"
   ]
  },
  {
   "cell_type": "code",
   "execution_count": 117,
   "metadata": {},
   "outputs": [],
   "source": [
    "loss_fn = F.mse_loss"
   ]
  },
  {
   "cell_type": "code",
   "execution_count": 118,
   "metadata": {},
   "outputs": [],
   "source": [
    "loss = loss_fn(model(inputs),target)"
   ]
  },
  {
   "cell_type": "code",
   "execution_count": 119,
   "metadata": {},
   "outputs": [
    {
     "name": "stdout",
     "output_type": "stream",
     "text": [
      "tensor(59.0625, grad_fn=<MseLossBackward>)\n"
     ]
    }
   ],
   "source": [
    "print(loss)"
   ]
  },
  {
   "cell_type": "code",
   "execution_count": 120,
   "metadata": {},
   "outputs": [],
   "source": [
    "opt = tr.optim.SGD(model.parameters(),lr = 1e-5)"
   ]
  },
  {
   "cell_type": "code",
   "execution_count": 121,
   "metadata": {},
   "outputs": [],
   "source": [
    "def fit(number_epochs , model , loss_fn, opt):\n",
    "    \n",
    "    for epoch in range(number_epochs):\n",
    "        \n",
    "        pred = model(inputs)\n",
    "        \n",
    "        loss = loss_fn(pred,target)\n",
    "        \n",
    "        loss.backward()\n",
    "        \n",
    "        opt.step()\n",
    "        \n",
    "        opt.zero_grad()\n",
    "        \n",
    "        \n",
    "        if (epoch +1)%10 == 0:\n",
    "            \n",
    "            print('Epoch [{}/{}], Loss :{:.4f}'.format(epoch+1, number_epochs, loss.item()))"
   ]
  },
  {
   "cell_type": "code",
   "execution_count": 122,
   "metadata": {},
   "outputs": [
    {
     "name": "stdout",
     "output_type": "stream",
     "text": [
      "Epoch [10/500], Loss :58.5250\n",
      "Epoch [20/500], Loss :57.9337\n",
      "Epoch [30/500], Loss :57.3485\n",
      "Epoch [40/500], Loss :56.7694\n",
      "Epoch [50/500], Loss :56.1963\n",
      "Epoch [60/500], Loss :55.6292\n",
      "Epoch [70/500], Loss :55.0679\n",
      "Epoch [80/500], Loss :54.5125\n",
      "Epoch [90/500], Loss :53.9628\n",
      "Epoch [100/500], Loss :53.4188\n",
      "Epoch [110/500], Loss :52.8805\n",
      "Epoch [120/500], Loss :52.3478\n",
      "Epoch [130/500], Loss :51.8205\n",
      "Epoch [140/500], Loss :51.2988\n",
      "Epoch [150/500], Loss :50.7825\n",
      "Epoch [160/500], Loss :50.2715\n",
      "Epoch [170/500], Loss :49.7658\n",
      "Epoch [180/500], Loss :49.2654\n",
      "Epoch [190/500], Loss :48.7701\n",
      "Epoch [200/500], Loss :48.2800\n",
      "Epoch [210/500], Loss :47.7950\n",
      "Epoch [220/500], Loss :47.3150\n",
      "Epoch [230/500], Loss :46.8400\n",
      "Epoch [240/500], Loss :46.3699\n",
      "Epoch [250/500], Loss :45.9047\n",
      "Epoch [260/500], Loss :45.4444\n",
      "Epoch [270/500], Loss :44.9888\n",
      "Epoch [280/500], Loss :44.5379\n",
      "Epoch [290/500], Loss :44.0917\n",
      "Epoch [300/500], Loss :43.6501\n",
      "Epoch [310/500], Loss :43.2131\n",
      "Epoch [320/500], Loss :42.7806\n",
      "Epoch [330/500], Loss :42.3526\n",
      "Epoch [340/500], Loss :41.9291\n",
      "Epoch [350/500], Loss :41.5099\n",
      "Epoch [360/500], Loss :41.0951\n",
      "Epoch [370/500], Loss :40.6846\n",
      "Epoch [380/500], Loss :40.2784\n",
      "Epoch [390/500], Loss :39.8764\n",
      "Epoch [400/500], Loss :39.4785\n",
      "Epoch [410/500], Loss :39.0848\n",
      "Epoch [420/500], Loss :38.6951\n",
      "Epoch [430/500], Loss :38.3095\n",
      "Epoch [440/500], Loss :37.9278\n",
      "Epoch [450/500], Loss :37.5502\n",
      "Epoch [460/500], Loss :37.1764\n",
      "Epoch [470/500], Loss :36.8066\n",
      "Epoch [480/500], Loss :36.4405\n",
      "Epoch [490/500], Loss :36.0783\n",
      "Epoch [500/500], Loss :35.7198\n"
     ]
    }
   ],
   "source": [
    "fit(500,model,loss_fn,opt)"
   ]
  },
  {
   "cell_type": "code",
   "execution_count": 123,
   "metadata": {},
   "outputs": [
    {
     "name": "stdout",
     "output_type": "stream",
     "text": [
      "tensor([[-0.7806],\n",
      "        [-0.5677],\n",
      "        [-0.6737],\n",
      "        [-0.5895],\n",
      "        [-0.8232],\n",
      "        [-0.8885],\n",
      "        [-0.7380],\n",
      "        [-0.7172],\n",
      "        [-0.5251],\n",
      "        [-0.5895],\n",
      "        [-0.8450],\n",
      "        [-0.6964],\n",
      "        [-0.5677],\n",
      "        [-0.6301],\n",
      "        [-1.0352],\n",
      "        [-1.1431],\n",
      "        [-0.9718],\n",
      "        [-0.7806],\n",
      "        [-0.8459],\n",
      "        [-0.8876],\n",
      "        [-0.6756],\n",
      "        [-0.8450],\n",
      "        [-0.9064],\n",
      "        [-0.6330],\n",
      "        [-0.6340],\n",
      "        [-0.5261],\n",
      "        [-0.6964],\n",
      "        [-0.7598],\n",
      "        [-0.7380],\n",
      "        [-0.6112],\n",
      "        [-0.5686],\n",
      "        [-0.7172],\n",
      "        [-1.0153],\n",
      "        [-1.0787],\n",
      "        [-0.5895],\n",
      "        [-0.6945],\n",
      "        [-0.8014],\n",
      "        [-0.8232],\n",
      "        [-0.5885],\n",
      "        [-0.7172],\n",
      "        [-0.8014],\n",
      "        [-0.2904],\n",
      "        [-0.6737],\n",
      "        [-0.7390],\n",
      "        [-0.8043],\n",
      "        [-0.5677],\n",
      "        [-0.8667],\n",
      "        [-0.6529],\n",
      "        [-0.8450],\n",
      "        [-0.6954],\n",
      "        [ 0.0339],\n",
      "        [-0.0077],\n",
      "        [ 0.1181],\n",
      "        [ 0.2715],\n",
      "        [ 0.1835],\n",
      "        [ 0.1626],\n",
      "        [-0.0087],\n",
      "        [ 0.0833],\n",
      "        [ 0.1409],\n",
      "        [ 0.0804],\n",
      "        [ 0.2952],\n",
      "        [ 0.0150],\n",
      "        [ 0.3141],\n",
      "        [ 0.1617],\n",
      "        [-0.0672],\n",
      "        [ 0.0141],\n",
      "        [ 0.0775],\n",
      "        [ 0.1220],\n",
      "        [ 0.4182],\n",
      "        [ 0.1655],\n",
      "        [ 0.0547],\n",
      "        [ 0.0586],\n",
      "        [ 0.3736],\n",
      "        [ 0.2043],\n",
      "        [ 0.0784],\n",
      "        [ 0.0567],\n",
      "        [ 0.2251],\n",
      "        [ 0.1815],\n",
      "        [ 0.1201],\n",
      "        [ 0.0397],\n",
      "        [ 0.1873],\n",
      "        [ 0.1665],\n",
      "        [ 0.0804],\n",
      "        [ 0.3301],\n",
      "        [ 0.0775],\n",
      "        [-0.0929],\n",
      "        [ 0.0765],\n",
      "        [ 0.3548],\n",
      "        [-0.0058],\n",
      "        [ 0.1863],\n",
      "        [ 0.2270],\n",
      "        [ 0.0983],\n",
      "        [ 0.1438],\n",
      "        [ 0.1258],\n",
      "        [ 0.1428],\n",
      "        [ 0.0150],\n",
      "        [ 0.0576],\n",
      "        [ 0.0784],\n",
      "        [-0.0218],\n",
      "        [ 0.0794],\n",
      "        [ 0.2619],\n",
      "        [ 0.3301],\n",
      "        [ 0.3688],\n",
      "        [ 0.3490],\n",
      "        [ 0.3480],\n",
      "        [ 0.5145],\n",
      "        [ 0.2904],\n",
      "        [ 0.4947],\n",
      "        [ 0.5609],\n",
      "        [ 0.1549],\n",
      "        [ 0.1172],\n",
      "        [ 0.3717],\n",
      "        [ 0.2856],\n",
      "        [ 0.3945],\n",
      "        [ 0.2875],\n",
      "        [ 0.1588],\n",
      "        [ 0.2856],\n",
      "        [ 0.1946],\n",
      "        [ 0.7473],\n",
      "        [ 0.5222],\n",
      "        [ 0.2420],\n",
      "        [ 0.2459],\n",
      "        [ 0.6205],\n",
      "        [ 0.2885],\n",
      "        [ 0.1994],\n",
      "        [ 0.3045],\n",
      "        [ 0.2251],\n",
      "        [ 0.1607],\n",
      "        [ 0.3916],\n",
      "        [ 0.3480],\n",
      "        [ 0.4956],\n",
      "        [ 0.1322],\n",
      "        [ 0.3916],\n",
      "        [ 0.2875],\n",
      "        [ 0.4767],\n",
      "        [ 0.4104],\n",
      "        [ 0.1360],\n",
      "        [ 0.2430],\n",
      "        [ 0.1399],\n",
      "        [ 0.2222],\n",
      "        [ 0.2638],\n",
      "        [ 0.1598],\n",
      "        [ 0.3301],\n",
      "        [ 0.2837],\n",
      "        [ 0.1994],\n",
      "        [ 0.2231],\n",
      "        [ 0.3945],\n",
      "        [ 0.2231],\n",
      "        [ 0.0944],\n",
      "        [ 0.2023]], grad_fn=<AddmmBackward>)\n"
     ]
    }
   ],
   "source": [
    "pred = model(inputs)\n",
    "print(pred)"
   ]
  },
  {
   "cell_type": "code",
   "execution_count": 124,
   "metadata": {},
   "outputs": [
    {
     "data": {
      "text/plain": [
       "tensor([[5.1000],\n",
       "        [4.9000],\n",
       "        [4.7000],\n",
       "        [4.6000],\n",
       "        [5.0000],\n",
       "        [5.4000],\n",
       "        [4.6000],\n",
       "        [5.0000],\n",
       "        [4.4000],\n",
       "        [4.9000],\n",
       "        [5.4000],\n",
       "        [4.8000],\n",
       "        [4.8000],\n",
       "        [4.3000],\n",
       "        [5.8000],\n",
       "        [5.7000],\n",
       "        [5.4000],\n",
       "        [5.1000],\n",
       "        [5.7000],\n",
       "        [5.1000],\n",
       "        [5.4000],\n",
       "        [5.1000],\n",
       "        [4.6000],\n",
       "        [5.1000],\n",
       "        [4.8000],\n",
       "        [5.0000],\n",
       "        [5.0000],\n",
       "        [5.2000],\n",
       "        [5.2000],\n",
       "        [4.7000],\n",
       "        [4.8000],\n",
       "        [5.4000],\n",
       "        [5.2000],\n",
       "        [5.5000],\n",
       "        [4.9000],\n",
       "        [5.0000],\n",
       "        [5.5000],\n",
       "        [4.9000],\n",
       "        [4.4000],\n",
       "        [5.1000],\n",
       "        [5.0000],\n",
       "        [4.5000],\n",
       "        [4.4000],\n",
       "        [5.0000],\n",
       "        [5.1000],\n",
       "        [4.8000],\n",
       "        [5.1000],\n",
       "        [4.6000],\n",
       "        [5.3000],\n",
       "        [5.0000],\n",
       "        [7.0000],\n",
       "        [6.4000],\n",
       "        [6.9000],\n",
       "        [5.5000],\n",
       "        [6.5000],\n",
       "        [5.7000],\n",
       "        [6.3000],\n",
       "        [4.9000],\n",
       "        [6.6000],\n",
       "        [5.2000],\n",
       "        [5.0000],\n",
       "        [5.9000],\n",
       "        [6.0000],\n",
       "        [6.1000],\n",
       "        [5.6000],\n",
       "        [6.7000],\n",
       "        [5.6000],\n",
       "        [5.8000],\n",
       "        [6.2000],\n",
       "        [5.6000],\n",
       "        [5.9000],\n",
       "        [6.1000],\n",
       "        [6.3000],\n",
       "        [6.1000],\n",
       "        [6.4000],\n",
       "        [6.6000],\n",
       "        [6.8000],\n",
       "        [6.7000],\n",
       "        [6.0000],\n",
       "        [5.7000],\n",
       "        [5.5000],\n",
       "        [5.5000],\n",
       "        [5.8000],\n",
       "        [6.0000],\n",
       "        [5.4000],\n",
       "        [6.0000],\n",
       "        [6.7000],\n",
       "        [6.3000],\n",
       "        [5.6000],\n",
       "        [5.5000],\n",
       "        [5.5000],\n",
       "        [6.1000],\n",
       "        [5.8000],\n",
       "        [5.0000],\n",
       "        [5.6000],\n",
       "        [5.7000],\n",
       "        [5.7000],\n",
       "        [6.2000],\n",
       "        [5.1000],\n",
       "        [5.7000],\n",
       "        [6.3000],\n",
       "        [5.8000],\n",
       "        [7.1000],\n",
       "        [6.3000],\n",
       "        [6.5000],\n",
       "        [7.6000],\n",
       "        [4.9000],\n",
       "        [7.3000],\n",
       "        [6.7000],\n",
       "        [7.2000],\n",
       "        [6.5000],\n",
       "        [6.4000],\n",
       "        [6.8000],\n",
       "        [5.7000],\n",
       "        [5.8000],\n",
       "        [6.4000],\n",
       "        [6.5000],\n",
       "        [7.7000],\n",
       "        [7.7000],\n",
       "        [6.0000],\n",
       "        [6.9000],\n",
       "        [5.6000],\n",
       "        [7.7000],\n",
       "        [6.3000],\n",
       "        [6.7000],\n",
       "        [7.2000],\n",
       "        [6.2000],\n",
       "        [6.1000],\n",
       "        [6.4000],\n",
       "        [7.2000],\n",
       "        [7.4000],\n",
       "        [7.9000],\n",
       "        [6.4000],\n",
       "        [6.3000],\n",
       "        [6.1000],\n",
       "        [7.7000],\n",
       "        [6.3000],\n",
       "        [6.4000],\n",
       "        [6.0000],\n",
       "        [6.9000],\n",
       "        [6.7000],\n",
       "        [6.9000],\n",
       "        [5.8000],\n",
       "        [6.8000],\n",
       "        [6.7000],\n",
       "        [6.7000],\n",
       "        [6.3000],\n",
       "        [6.5000],\n",
       "        [6.2000],\n",
       "        [5.9000]])"
      ]
     },
     "execution_count": 124,
     "metadata": {},
     "output_type": "execute_result"
    }
   ],
   "source": [
    "target"
   ]
  },
  {
   "cell_type": "code",
   "execution_count": 403,
   "metadata": {},
   "outputs": [
    {
     "ename": "SyntaxError",
     "evalue": "invalid syntax (<ipython-input-403-2631effa1250>, line 1)",
     "output_type": "error",
     "traceback": [
      "\u001b[1;36m  File \u001b[1;32m\"<ipython-input-403-2631effa1250>\"\u001b[1;36m, line \u001b[1;32m1\u001b[0m\n\u001b[1;33m    nn.\u001b[0m\n\u001b[1;37m       ^\u001b[0m\n\u001b[1;31mSyntaxError\u001b[0m\u001b[1;31m:\u001b[0m invalid syntax\n"
     ]
    }
   ],
   "source": [
    "nn.Linear"
   ]
  },
  {
   "cell_type": "code",
   "execution_count": null,
   "metadata": {},
   "outputs": [],
   "source": []
  }
 ],
 "metadata": {
  "kernelspec": {
   "display_name": "Python 3",
   "language": "python",
   "name": "python3"
  },
  "language_info": {
   "codemirror_mode": {
    "name": "ipython",
    "version": 3
   },
   "file_extension": ".py",
   "mimetype": "text/x-python",
   "name": "python",
   "nbconvert_exporter": "python",
   "pygments_lexer": "ipython3",
   "version": "3.8.5"
  }
 },
 "nbformat": 4,
 "nbformat_minor": 4
}
