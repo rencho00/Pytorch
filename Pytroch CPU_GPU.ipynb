{
 "cells": [
  {
   "cell_type": "code",
   "execution_count": 232,
   "metadata": {},
   "outputs": [],
   "source": [
    "import numpy as np\n",
    "import pandas as pd\n",
    "import matplotlib.pyplot as plt\n",
    "import seaborn as sb\n",
    "%matplotlib inline"
   ]
  },
  {
   "cell_type": "code",
   "execution_count": 233,
   "metadata": {},
   "outputs": [],
   "source": [
    "import torch\n",
    "import torchvision"
   ]
  },
  {
   "cell_type": "code",
   "execution_count": 234,
   "metadata": {},
   "outputs": [],
   "source": [
    "from torchvision.datasets import MNIST"
   ]
  },
  {
   "cell_type": "code",
   "execution_count": 235,
   "metadata": {},
   "outputs": [],
   "source": [
    "dataset=MNIST(root='data/')"
   ]
  },
  {
   "cell_type": "code",
   "execution_count": 236,
   "metadata": {},
   "outputs": [
    {
     "data": {
      "text/plain": [
       "60000"
      ]
     },
     "execution_count": 236,
     "metadata": {},
     "output_type": "execute_result"
    }
   ],
   "source": [
    "len(dataset)"
   ]
  },
  {
   "cell_type": "code",
   "execution_count": 237,
   "metadata": {},
   "outputs": [],
   "source": [
    "train_dataset = MNIST(root='data/',train=False)"
   ]
  },
  {
   "cell_type": "code",
   "execution_count": 238,
   "metadata": {},
   "outputs": [
    {
     "data": {
      "text/plain": [
       "10000"
      ]
     },
     "execution_count": 238,
     "metadata": {},
     "output_type": "execute_result"
    }
   ],
   "source": [
    "len(train_dataset)"
   ]
  },
  {
   "cell_type": "code",
   "execution_count": 239,
   "metadata": {},
   "outputs": [],
   "source": [
    "image,label = dataset[2]"
   ]
  },
  {
   "cell_type": "code",
   "execution_count": 240,
   "metadata": {},
   "outputs": [
    {
     "name": "stdout",
     "output_type": "stream",
     "text": [
      "4\n"
     ]
    },
    {
     "data": {
      "image/png": "[encoded data removed]",
      "text/plain": [
       "<Figure size 432x288 with 1 Axes>"
      ]
     },
     "metadata": {
      "needs_background": "light"
     },
     "output_type": "display_data"
    }
   ],
   "source": [
    "plt.imshow(image,cmap='gray')\n",
    "print(label)"
   ]
  },
  {
   "cell_type": "code",
   "execution_count": 241,
   "metadata": {},
   "outputs": [],
   "source": [
    "import torchvision.transforms as transforms"
   ]
  },
  {
   "cell_type": "code",
   "execution_count": 242,
   "metadata": {},
   "outputs": [],
   "source": [
    "dataset = MNIST(root='data/',train=True,transform= transforms.ToTensor())"
   ]
  },
  {
   "cell_type": "code",
   "execution_count": 243,
   "metadata": {},
   "outputs": [
    {
     "data": {
      "text/plain": [
       "Dataset MNIST\n",
       "    Number of datapoints: 60000\n",
       "    Root location: data/\n",
       "    Split: Train\n",
       "    StandardTransform\n",
       "Transform: ToTensor()"
      ]
     },
     "execution_count": 243,
     "metadata": {},
     "output_type": "execute_result"
    }
   ],
   "source": [
    "dataset"
   ]
  },
  {
   "cell_type": "code",
   "execution_count": 244,
   "metadata": {},
   "outputs": [
    {
     "name": "stdout",
     "output_type": "stream",
     "text": [
      "torch.Size([1, 28, 28])\n"
     ]
    }
   ],
   "source": [
    "image_tensor, label = dataset[2]\n",
    "print(image_tensor.shape)"
   ]
  },
  {
   "cell_type": "code",
   "execution_count": 245,
   "metadata": {},
   "outputs": [
    {
     "name": "stdout",
     "output_type": "stream",
     "text": [
      "tensor(1.)\n",
      "tensor(0.)\n"
     ]
    }
   ],
   "source": [
    "print(torch.max(image_tensor))\n",
    "print(torch.min(image_tensor))"
   ]
  },
  {
   "cell_type": "code",
   "execution_count": 246,
   "metadata": {},
   "outputs": [],
   "source": [
    "def split(n,pct):\n",
    "    \n",
    "    n_val = int(n*pct)\n",
    "    indx = np.random.permutation(n)\n",
    "    \n",
    "    return indx[:n_val], indx[n_val:]"
   ]
  },
  {
   "cell_type": "code",
   "execution_count": 247,
   "metadata": {},
   "outputs": [],
   "source": [
    "train_ind, test_ind= split(len(dataset),0.2)"
   ]
  },
  {
   "cell_type": "code",
   "execution_count": 248,
   "metadata": {},
   "outputs": [],
   "source": [
    "from torch.utils.data.sampler import SubsetRandomSampler\n",
    "from torch.utils.data import DataLoader"
   ]
  },
  {
   "cell_type": "code",
   "execution_count": 249,
   "metadata": {},
   "outputs": [],
   "source": [
    "batch = 100\n",
    "\n",
    "train_sampler = SubsetRandomSampler(train_ind)\n",
    "train_loader = DataLoader(dataset,batch,sampler= train_sampler)\n",
    "\n",
    "val_sampler = SubsetRandomSampler(test_ind)\n",
    "val_loader = DataLoader(dataset,batch,sampler = val_sampler)"
   ]
  },
  {
   "cell_type": "code",
   "execution_count": 250,
   "metadata": {},
   "outputs": [],
   "source": [
    "import torch.nn as nn\n"
   ]
  },
  {
   "cell_type": "code",
   "execution_count": 251,
   "metadata": {},
   "outputs": [],
   "source": [
    "input_size = 28*28\n",
    "output = 10\n",
    "\n",
    "model = nn.Linear(input_size,output)"
   ]
  },
  {
   "cell_type": "code",
   "execution_count": 252,
   "metadata": {},
   "outputs": [
    {
     "name": "stdout",
     "output_type": "stream",
     "text": [
      "Parameter containing:\n",
      "tensor([-0.0159,  0.0302,  0.0117, -0.0240,  0.0270, -0.0138, -0.0015,  0.0038,\n",
      "        -0.0306, -0.0036], requires_grad=True)\n"
     ]
    }
   ],
   "source": [
    "print(model.bias)"
   ]
  },
  {
   "cell_type": "code",
   "execution_count": 253,
   "metadata": {},
   "outputs": [
    {
     "data": {
      "text/plain": [
       "[Parameter containing:\n",
       " tensor([[-4.6663e-03, -8.4497e-05,  3.0873e-02,  ...,  1.6408e-03,\n",
       "           2.1387e-02,  2.4420e-02],\n",
       "         [-6.0723e-03,  1.2631e-02, -2.4341e-02,  ...,  9.4486e-03,\n",
       "           2.9194e-02, -1.8936e-02],\n",
       "         [-1.2051e-02,  2.6832e-02,  9.4269e-03,  ...,  3.1986e-02,\n",
       "           2.6326e-02,  2.2176e-02],\n",
       "         ...,\n",
       "         [ 9.6881e-03,  2.3360e-02, -5.3331e-04,  ..., -3.0007e-02,\n",
       "          -1.4982e-03, -2.8549e-02],\n",
       "         [-9.5794e-04, -3.3797e-03, -8.4076e-03,  ..., -2.6938e-02,\n",
       "           8.8728e-03,  3.4069e-02],\n",
       "         [-3.0463e-02, -1.1310e-02, -3.5026e-02,  ..., -1.8847e-02,\n",
       "          -1.3883e-03, -5.5568e-03]], requires_grad=True),\n",
       " Parameter containing:\n",
       " tensor([-0.0159,  0.0302,  0.0117, -0.0240,  0.0270, -0.0138, -0.0015,  0.0038,\n",
       "         -0.0306, -0.0036], requires_grad=True)]"
      ]
     },
     "execution_count": 253,
     "metadata": {},
     "output_type": "execute_result"
    }
   ],
   "source": [
    "list(model.parameters())"
   ]
  },
  {
   "cell_type": "code",
   "execution_count": 255,
   "metadata": {},
   "outputs": [],
   "source": [
    "class MinstModel(nn.Module):\n",
    "    \n",
    "    def __init__(self,input_size,hidden_size, out_size):\n",
    "        super().__init__()\n",
    "        self.linear1=nn.Linear(input_size,hidden_size)\n",
    "        \n",
    "        self.linear2 = nn.Linear(hidden_size, out_size)\n",
    "        \n",
    "    def forward(self,xb):\n",
    "        xb = xb.reshape(-1,input_size)\n",
    "        out = self.linear1(xb)\n",
    "        \n",
    "        out = F.relu(out)\n",
    "        \n",
    "        out = self.linear2(out)\n",
    "        return out"
   ]
  },
  {
   "cell_type": "code",
   "execution_count": 256,
   "metadata": {},
   "outputs": [],
   "source": [
    "model = MinstModel(input_size,hidden_size=32,out_size=10)"
   ]
  },
  {
   "cell_type": "code",
   "execution_count": 259,
   "metadata": {},
   "outputs": [
    {
     "name": "stdout",
     "output_type": "stream",
     "text": [
      "torch.Size([32, 784])\n",
      "torch.Size([32])\n",
      "torch.Size([10, 32])\n",
      "torch.Size([10])\n"
     ]
    }
   ],
   "source": [
    "for t in model.parameters():\n",
    "    print(t.shape)"
   ]
  },
  {
   "cell_type": "code",
   "execution_count": 273,
   "metadata": {},
   "outputs": [
    {
     "name": "stdout",
     "output_type": "stream",
     "text": [
      "LOSS 2.317988395690918\n",
      "torch.Size([100, 10])\n",
      "tensor([[0.0814, 0.0879, 0.0957, 0.1273, 0.1007, 0.0849, 0.0833, 0.1143, 0.1198,\n",
      "         0.1049],\n",
      "        [0.0899, 0.0875, 0.0955, 0.1260, 0.1045, 0.0876, 0.0810, 0.1154, 0.1125,\n",
      "         0.1001]])\n"
     ]
    }
   ],
   "source": [
    "for images, label in train_loader:\n",
    "    outputs = model(images)\n",
    "    \n",
    "    loss = F.cross_entropy(outputs,label)\n",
    "    \n",
    "    print('LOSS',loss.item())\n",
    "    break\n",
    "    \n",
    "    \n",
    "print((outputs.shape))\n",
    "print(F.softmax(outputs[:2].data,dim=1))"
   ]
  },
  {
   "cell_type": "code",
   "execution_count": 277,
   "metadata": {},
   "outputs": [
    {
     "data": {
      "text/plain": [
       "False"
      ]
     },
     "execution_count": 277,
     "metadata": {},
     "output_type": "execute_result"
    }
   ],
   "source": [
    "torch.cuda.is_available()"
   ]
  },
  {
   "cell_type": "code",
   "execution_count": 278,
   "metadata": {},
   "outputs": [],
   "source": [
    "def get_default_device():\n",
    "    \n",
    "    if torch.cuda.is_available():\n",
    "        \n",
    "        return torch.device('cuda')\n",
    "    \n",
    "    else:\n",
    "        return torch.device('cpu')"
   ]
  },
  {
   "cell_type": "code",
   "execution_count": 280,
   "metadata": {},
   "outputs": [
    {
     "data": {
      "text/plain": [
       "device(type='cpu')"
      ]
     },
     "execution_count": 280,
     "metadata": {},
     "output_type": "execute_result"
    }
   ],
   "source": [
    "device = get_default_device()\n",
    "device"
   ]
  },
  {
   "cell_type": "code",
   "execution_count": 281,
   "metadata": {},
   "outputs": [],
   "source": [
    "def to_device(data,device):\n",
    "    \n",
    "    if isinstance(data,(list,tuple)):\n",
    "        \n",
    "        return [to_device(x,device) for x in data]\n",
    "    \n",
    "    return data.to(device,non_blocking = True)"
   ]
  },
  {
   "cell_type": "code",
   "execution_count": 282,
   "metadata": {},
   "outputs": [
    {
     "name": "stdout",
     "output_type": "stream",
     "text": [
      "torch.Size([100, 1, 28, 28])\n",
      "cpu\n"
     ]
    }
   ],
   "source": [
    "for images,label in train_loader:\n",
    "    \n",
    "    print(images.shape)\n",
    "    \n",
    "    images = to_device(images,device)\n",
    "    \n",
    "    print(images.device)\n",
    "    \n",
    "    break"
   ]
  },
  {
   "cell_type": "code",
   "execution_count": 283,
   "metadata": {},
   "outputs": [],
   "source": [
    "class DeviceDataLoader():\n",
    "    \n",
    "    def __init__(self,dl,device):\n",
    "        \n",
    "        self.dl = dl\n",
    "        self.device = device\n",
    "        \n",
    "    def __iter__(self):\n",
    "            \n",
    "        for b in self.dl:\n",
    "                \n",
    "            yield to_device(b,self.device)\n",
    "    \n",
    "    def __len__(self):\n",
    "        \n",
    "        return (self.dl)\n",
    "        "
   ]
  },
  {
   "cell_type": "code",
   "execution_count": 285,
   "metadata": {},
   "outputs": [],
   "source": [
    "train_dl = DeviceDataLoader(train_loader,device)\n",
    "valid_dl = DeviceDataLoader(val_loader,device)"
   ]
  },
  {
   "cell_type": "raw",
   "metadata": {},
   "source": []
  },
  {
   "cell_type": "code",
   "execution_count": 286,
   "metadata": {},
   "outputs": [
    {
     "name": "stdout",
     "output_type": "stream",
     "text": [
      "cpu\n",
      "tensor([4, 4, 1, 0, 1, 7, 1, 6, 2, 1, 7, 6, 7, 7, 5, 4, 7, 7, 3, 1, 0, 2, 3, 8,\n",
      "        8, 8, 5, 8, 8, 5, 9, 8, 1, 5, 3, 6, 7, 1, 5, 5, 8, 3, 0, 4, 6, 0, 2, 0,\n",
      "        1, 8, 7, 5, 0, 1, 3, 5, 7, 0, 9, 7, 9, 6, 6, 1, 7, 6, 7, 2, 1, 7, 5, 2,\n",
      "        9, 4, 4, 9, 0, 3, 7, 0, 3, 9, 0, 7, 9, 3, 2, 2, 3, 6, 2, 3, 1, 6, 7, 4,\n",
      "        7, 6, 4, 0])\n"
     ]
    }
   ],
   "source": [
    "for xb,yb in valid_dl:\n",
    "    \n",
    "    print(xb.device)\n",
    "    print(yb)\n",
    "    break"
   ]
  },
  {
   "cell_type": "code",
   "execution_count": 287,
   "metadata": {},
   "outputs": [],
   "source": [
    "def loss_batch(model,loss_func, xb,yb, opt= None,metric = None):\n",
    "    \n",
    "    preds = model(xb)\n",
    "    loss = loss_func(preds,yb)\n",
    "    \n",
    "    \n",
    "    if opt is not None:\n",
    "        \n",
    "        loss.backward()\n",
    "        \n",
    "        opt.step()\n",
    "        \n",
    "        opt.zero_grad()\n",
    "        \n",
    "    metric_result = None\n",
    "    \n",
    "    if metric is not None:\n",
    "        \n",
    "        metric_result = metric(preds,yb)\n",
    "        \n",
    "        \n",
    "    return loss.item(), len(xb), metric_result"
   ]
  },
  {
   "cell_type": "code",
   "execution_count": 288,
   "metadata": {},
   "outputs": [],
   "source": [
    "def evaluate (model, loss_fn, valid_dl, metric = None):\n",
    "    \n",
    "    with torch.no_grad():\n",
    "        \n",
    "        results = [loss_batch(model, loss_fn,xb, yb, metric = metric) for xb,yb in valid_dl]\n",
    "        \n",
    "        \n",
    "        losses, nums, metrics = zip(*results)\n",
    "        \n",
    "        \n",
    "        total = np.sum(nums)\n",
    "        \n",
    "        avg_loss = np.sum(np.multiply(losses,nums))/ total\n",
    "        \n",
    "        avg_metric = None\n",
    "        \n",
    "        if metric is not None:\n",
    "            \n",
    "            avg_metric = np.sum(np.multiply(metrics, nums ))/ total\n",
    "            \n",
    "    return avg_loss, total, avg_metric"
   ]
  },
  {
   "cell_type": "code",
   "execution_count": 298,
   "metadata": {},
   "outputs": [],
   "source": [
    "def fit(epochs, lr,model,loss_fn,train_dl,valid_dl,metric = None,opt_fn = None):\n",
    "    \n",
    "    \n",
    "    losses,metrics = [],[]\n",
    "    \n",
    "    if opt_fn is None:\n",
    "        \n",
    "        opt_fn = torch.optim.SGD\n",
    "    \n",
    "    opt = opt_fn(model.parameters(),lr=lr)\n",
    "    \n",
    "    for epoch in range(epochs):\n",
    "        \n",
    "        for xb,yb in train_dl:\n",
    "            \n",
    "            loss_batch(model,loss_fn,xb,yb,opt)\n",
    "            \n",
    "        result = evaluate(model,loss_fn,valid_dl,metric)\n",
    "        val_, total, val_metric = result\n",
    "        \n",
    "        losses.append(val_loss)\n",
    "        \n",
    "        metrics.append(val_metric)\n",
    "        \n",
    "        \n",
    "        if metric is None:\n",
    "            \n",
    "            print('Epoch [{}/{}],Loss:{:.4f}'.format(epoch+1,epochs,val_loss))\n",
    "            \n",
    "        else:\n",
    "            \n",
    "            print('Epoch [{}/{}],Loss:{:.4f},{}: {:.4f}'.format(epoch+1,epochs,val_loss,metric.__name__,val_metric))\n",
    "            \n",
    "    return losses , metrics"
   ]
  },
  {
   "cell_type": "code",
   "execution_count": 299,
   "metadata": {},
   "outputs": [],
   "source": [
    "def accuracy(outputs, labels):\n",
    "    \n",
    "    _,preds = torch.max(outputs, dim=1)\n",
    "    \n",
    "    return torch.sum(preds==labels).item()/len(preds)"
   ]
  },
  {
   "cell_type": "code",
   "execution_count": 300,
   "metadata": {},
   "outputs": [
    {
     "data": {
      "text/plain": [
       "MinstModel(\n",
       "  (linear1): Linear(in_features=784, out_features=32, bias=True)\n",
       "  (linear2): Linear(in_features=32, out_features=10, bias=True)\n",
       ")"
      ]
     },
     "execution_count": 300,
     "metadata": {},
     "output_type": "execute_result"
    }
   ],
   "source": [
    "model = MinstModel(input_size,hidden_size = 32, out_size = 10)\n",
    "\n",
    "to_device(model,device)"
   ]
  },
  {
   "cell_type": "code",
   "execution_count": 301,
   "metadata": {},
   "outputs": [
    {
     "name": "stdout",
     "output_type": "stream",
     "text": [
      "Loss: 2.3185, Accuracy : 0.0664\n"
     ]
    }
   ],
   "source": [
    "val_loss, total, val_acc = evaluate(model, loss_fn,val_loader,metric= accuracy)\n",
    "\n",
    "print('Loss: {:.4f}, Accuracy : {:.4f}'.format(val_loss,val_acc))"
   ]
  },
  {
   "cell_type": "code",
   "execution_count": 302,
   "metadata": {},
   "outputs": [
    {
     "name": "stdout",
     "output_type": "stream",
     "text": [
      "Epoch [1/5],Loss:2.3185,accuracy: 0.3255\n",
      "Epoch [2/5],Loss:2.3185,accuracy: 0.5396\n",
      "Epoch [3/5],Loss:2.3185,accuracy: 0.7069\n",
      "Epoch [4/5],Loss:2.3185,accuracy: 0.7783\n",
      "Epoch [5/5],Loss:2.3185,accuracy: 0.8068\n"
     ]
    }
   ],
   "source": [
    "losses1,metrics1 =  fit(5,0.01,model,F.cross_entropy,train_dl,valid_dl,accuracy)"
   ]
  },
  {
   "cell_type": "code",
   "execution_count": 303,
   "metadata": {},
   "outputs": [
    {
     "name": "stdout",
     "output_type": "stream",
     "text": [
      "Epoch [1/5],Loss:2.3185,accuracy: 0.8223\n",
      "Epoch [2/5],Loss:2.3185,accuracy: 0.8358\n",
      "Epoch [3/5],Loss:2.3185,accuracy: 0.8453\n",
      "Epoch [4/5],Loss:2.3185,accuracy: 0.8524\n",
      "Epoch [5/5],Loss:2.3185,accuracy: 0.8591\n"
     ]
    }
   ],
   "source": [
    "losses1,metrics1 =  fit(5,0.01,model,F.cross_entropy,train_dl,valid_dl,accuracy)"
   ]
  },
  {
   "cell_type": "code",
   "execution_count": null,
   "metadata": {},
   "outputs": [],
   "source": []
  }
 ],
 "metadata": {
  "kernelspec": {
   "display_name": "Python 3",
   "language": "python",
   "name": "python3"
  },
  "language_info": {
   "codemirror_mode": {
    "name": "ipython",
    "version": 3
   },
   "file_extension": ".py",
   "mimetype": "text/x-python",
   "name": "python",
   "nbconvert_exporter": "python",
   "pygments_lexer": "ipython3",
   "version": "3.8.5"
  }
 },
 "nbformat": 4,
 "nbformat_minor": 4
}
