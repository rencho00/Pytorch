{
 "cells": [
  {
   "cell_type": "code",
   "execution_count": 241,
   "metadata": {},
   "outputs": [],
   "source": [
    "import numpy as np\n",
    "import pandas as pd\n",
    "import matplotlib.pyplot as plt\n",
    "%matplotlib inline"
   ]
  },
  {
   "cell_type": "code",
   "execution_count": 242,
   "metadata": {},
   "outputs": [],
   "source": [
    "import torch \n",
    "import torchvision \n",
    "from torchvision.datasets import MNIST"
   ]
  },
  {
   "cell_type": "code",
   "execution_count": 243,
   "metadata": {},
   "outputs": [],
   "source": [
    "dataset = MNIST(root='data/', download =False)"
   ]
  },
  {
   "cell_type": "code",
   "execution_count": 244,
   "metadata": {},
   "outputs": [
    {
     "data": {
      "text/plain": [
       "60000"
      ]
     },
     "execution_count": 244,
     "metadata": {},
     "output_type": "execute_result"
    }
   ],
   "source": [
    "len(dataset)"
   ]
  },
  {
   "cell_type": "code",
   "execution_count": 245,
   "metadata": {},
   "outputs": [],
   "source": [
    "test_dataset = MNIST(root='data/', train=False)"
   ]
  },
  {
   "cell_type": "code",
   "execution_count": 246,
   "metadata": {},
   "outputs": [
    {
     "data": {
      "text/plain": [
       "10000"
      ]
     },
     "execution_count": 246,
     "metadata": {},
     "output_type": "execute_result"
    }
   ],
   "source": [
    "len(test_dataset)"
   ]
  },
  {
   "cell_type": "code",
   "execution_count": 247,
   "metadata": {},
   "outputs": [],
   "source": [
    " image,label = dataset[10]"
   ]
  },
  {
   "cell_type": "code",
   "execution_count": 248,
   "metadata": {},
   "outputs": [
    {
     "name": "stdout",
     "output_type": "stream",
     "text": [
      "3\n"
     ]
    },
    {
     "data": {
      "image/png": "[encoded data removed]",
      "text/plain": [
       "<Figure size 432x288 with 1 Axes>"
      ]
     },
     "metadata": {
      "needs_background": "light"
     },
     "output_type": "display_data"
    }
   ],
   "source": [
    "plt.imshow(image,cmap='gray')\n",
    "print(label)"
   ]
  },
  {
   "cell_type": "code",
   "execution_count": 249,
   "metadata": {},
   "outputs": [],
   "source": [
    "import torchvision.transforms as transforms"
   ]
  },
  {
   "cell_type": "code",
   "execution_count": 250,
   "metadata": {},
   "outputs": [],
   "source": [
    "dataset = MNIST(root='data/',train= True,transform = transforms.ToTensor())"
   ]
  },
  {
   "cell_type": "code",
   "execution_count": 251,
   "metadata": {},
   "outputs": [],
   "source": [
    "img_tensor, label = dataset[10]"
   ]
  },
  {
   "cell_type": "code",
   "execution_count": 252,
   "metadata": {},
   "outputs": [
    {
     "name": "stdout",
     "output_type": "stream",
     "text": [
      "torch.Size([1, 28, 28]) 3\n"
     ]
    }
   ],
   "source": [
    "print(img_tensor.shape, label)"
   ]
  },
  {
   "cell_type": "code",
   "execution_count": 253,
   "metadata": {},
   "outputs": [],
   "source": [
    "import numpy as np\n",
    "def split(n,val_pct):\n",
    "    \n",
    "    n_val = int(val_pct *n)\n",
    "    \n",
    "    indxs = np.random.permutation(n)\n",
    "    \n",
    "    return indxs[n_val:], indxs[:n_val]"
   ]
  },
  {
   "cell_type": "code",
   "execution_count": 254,
   "metadata": {},
   "outputs": [],
   "source": [
    "train_indics , val_indics = split(len(dataset),val_pct = 0.2)"
   ]
  },
  {
   "cell_type": "code",
   "execution_count": 255,
   "metadata": {},
   "outputs": [
    {
     "data": {
      "text/plain": [
       "12000"
      ]
     },
     "execution_count": 255,
     "metadata": {},
     "output_type": "execute_result"
    }
   ],
   "source": [
    "len(val_indics)"
   ]
  },
  {
   "cell_type": "code",
   "execution_count": 256,
   "metadata": {},
   "outputs": [],
   "source": [
    "from torch.utils.data.sampler import SubsetRandomSampler\n",
    "from torch.utils.data.dataloader import DataLoader"
   ]
  },
  {
   "cell_type": "code",
   "execution_count": 257,
   "metadata": {},
   "outputs": [],
   "source": [
    "batch_size = 100\n",
    "\n",
    "train_sampler = SubsetRandomSampler(train_indics)\n",
    "train_loader = DataLoader(dataset, batch_size, sampler = train_sampler)\n",
    "\n",
    "val_sampler = SubsetRandomSampler(val_indics)\n",
    "val_loader = DataLoader(dataset, batch_size, sampler=val_sampler)"
   ]
  },
  {
   "cell_type": "code",
   "execution_count": 258,
   "metadata": {},
   "outputs": [],
   "source": [
    "import torch.nn as nn\n",
    "\n",
    "input_size = 28*28\n",
    "num_class = 10\n",
    "\n",
    "model = nn.Linear(input_size,num_class)"
   ]
  },
  {
   "cell_type": "code",
   "execution_count": 259,
   "metadata": {},
   "outputs": [
    {
     "name": "stdout",
     "output_type": "stream",
     "text": [
      "torch.Size([10])\n"
     ]
    }
   ],
   "source": [
    "print(model.bias.shape)"
   ]
  },
  {
   "cell_type": "code",
   "execution_count": 260,
   "metadata": {},
   "outputs": [
    {
     "data": {
      "text/plain": [
       "Parameter containing:\n",
       "tensor([[ 0.0061, -0.0192, -0.0043,  ...,  0.0005,  0.0139, -0.0310],\n",
       "        [-0.0059, -0.0036,  0.0129,  ...,  0.0087,  0.0096,  0.0210],\n",
       "        [ 0.0262, -0.0306,  0.0038,  ..., -0.0305,  0.0300,  0.0079],\n",
       "        ...,\n",
       "        [ 0.0246,  0.0084, -0.0290,  ...,  0.0038,  0.0221, -0.0356],\n",
       "        [ 0.0037, -0.0102,  0.0176,  ...,  0.0319, -0.0306,  0.0035],\n",
       "        [ 0.0331,  0.0031,  0.0093,  ..., -0.0270,  0.0306, -0.0135]],\n",
       "       requires_grad=True)"
      ]
     },
     "execution_count": 260,
     "metadata": {},
     "output_type": "execute_result"
    }
   ],
   "source": [
    "model.weight"
   ]
  },
  {
   "cell_type": "code",
   "execution_count": 261,
   "metadata": {},
   "outputs": [
    {
     "data": {
      "text/plain": [
       "[Parameter containing:\n",
       " tensor([[ 0.0061, -0.0192, -0.0043,  ...,  0.0005,  0.0139, -0.0310],\n",
       "         [-0.0059, -0.0036,  0.0129,  ...,  0.0087,  0.0096,  0.0210],\n",
       "         [ 0.0262, -0.0306,  0.0038,  ..., -0.0305,  0.0300,  0.0079],\n",
       "         ...,\n",
       "         [ 0.0246,  0.0084, -0.0290,  ...,  0.0038,  0.0221, -0.0356],\n",
       "         [ 0.0037, -0.0102,  0.0176,  ...,  0.0319, -0.0306,  0.0035],\n",
       "         [ 0.0331,  0.0031,  0.0093,  ..., -0.0270,  0.0306, -0.0135]],\n",
       "        requires_grad=True),\n",
       " Parameter containing:\n",
       " tensor([ 0.0037, -0.0134,  0.0015,  0.0307, -0.0106,  0.0125,  0.0270, -0.0182,\n",
       "          0.0207, -0.0147], requires_grad=True)]"
      ]
     },
     "execution_count": 261,
     "metadata": {},
     "output_type": "execute_result"
    }
   ],
   "source": [
    "list(model.parameters())"
   ]
  },
  {
   "cell_type": "code",
   "execution_count": 262,
   "metadata": {},
   "outputs": [
    {
     "name": "stdout",
     "output_type": "stream",
     "text": [
      "tensor([4, 9, 8, 7, 6, 8, 9, 2, 9, 9, 0, 6, 0, 3, 6, 9, 4, 7, 5, 1, 3, 9, 2, 3,\n",
      "        6, 9, 0, 3, 9, 1, 4, 7, 4, 9, 1, 3, 7, 8, 2, 2, 1, 2, 5, 8, 5, 6, 1, 3,\n",
      "        2, 4, 1, 5, 2, 7, 0, 0, 3, 5, 5, 6, 6, 7, 2, 7, 4, 8, 4, 7, 0, 5, 3, 7,\n",
      "        3, 7, 5, 0, 5, 5, 8, 1, 1, 5, 5, 8, 7, 8, 9, 6, 1, 7, 7, 5, 8, 8, 4, 6,\n",
      "        8, 2, 3, 0])\n",
      "torch.Size([100, 1, 28, 28])\n"
     ]
    },
    {
     "ename": "RuntimeError",
     "evalue": "mat1 and mat2 shapes cannot be multiplied (2800x28 and 784x10)",
     "output_type": "error",
     "traceback": [
      "\u001b[1;31m---------------------------------------------------------------------------\u001b[0m",
      "\u001b[1;31mRuntimeError\u001b[0m                              Traceback (most recent call last)",
      "\u001b[1;32m<ipython-input-262-c2d48354dab0>\u001b[0m in \u001b[0;36m<module>\u001b[1;34m\u001b[0m\n\u001b[0;32m      3\u001b[0m     \u001b[0mprint\u001b[0m\u001b[1;33m(\u001b[0m\u001b[0mlabels\u001b[0m\u001b[1;33m)\u001b[0m\u001b[1;33m\u001b[0m\u001b[1;33m\u001b[0m\u001b[0m\n\u001b[0;32m      4\u001b[0m     \u001b[0mprint\u001b[0m\u001b[1;33m(\u001b[0m\u001b[0mimages\u001b[0m\u001b[1;33m.\u001b[0m\u001b[0mshape\u001b[0m\u001b[1;33m)\u001b[0m\u001b[1;33m\u001b[0m\u001b[1;33m\u001b[0m\u001b[0m\n\u001b[1;32m----> 5\u001b[1;33m     \u001b[0moutputs\u001b[0m \u001b[1;33m=\u001b[0m \u001b[0mmodel\u001b[0m\u001b[1;33m(\u001b[0m\u001b[0mimages\u001b[0m\u001b[1;33m)\u001b[0m\u001b[1;33m\u001b[0m\u001b[1;33m\u001b[0m\u001b[0m\n\u001b[0m\u001b[0;32m      6\u001b[0m     \u001b[1;32mbreak\u001b[0m\u001b[1;33m\u001b[0m\u001b[1;33m\u001b[0m\u001b[0m\n",
      "\u001b[1;32m~\\anaconda3.1\\lib\\site-packages\\torch\\nn\\modules\\module.py\u001b[0m in \u001b[0;36m_call_impl\u001b[1;34m(self, *input, **kwargs)\u001b[0m\n\u001b[0;32m    887\u001b[0m             \u001b[0mresult\u001b[0m \u001b[1;33m=\u001b[0m \u001b[0mself\u001b[0m\u001b[1;33m.\u001b[0m\u001b[0m_slow_forward\u001b[0m\u001b[1;33m(\u001b[0m\u001b[1;33m*\u001b[0m\u001b[0minput\u001b[0m\u001b[1;33m,\u001b[0m \u001b[1;33m**\u001b[0m\u001b[0mkwargs\u001b[0m\u001b[1;33m)\u001b[0m\u001b[1;33m\u001b[0m\u001b[1;33m\u001b[0m\u001b[0m\n\u001b[0;32m    888\u001b[0m         \u001b[1;32melse\u001b[0m\u001b[1;33m:\u001b[0m\u001b[1;33m\u001b[0m\u001b[1;33m\u001b[0m\u001b[0m\n\u001b[1;32m--> 889\u001b[1;33m             \u001b[0mresult\u001b[0m \u001b[1;33m=\u001b[0m \u001b[0mself\u001b[0m\u001b[1;33m.\u001b[0m\u001b[0mforward\u001b[0m\u001b[1;33m(\u001b[0m\u001b[1;33m*\u001b[0m\u001b[0minput\u001b[0m\u001b[1;33m,\u001b[0m \u001b[1;33m**\u001b[0m\u001b[0mkwargs\u001b[0m\u001b[1;33m)\u001b[0m\u001b[1;33m\u001b[0m\u001b[1;33m\u001b[0m\u001b[0m\n\u001b[0m\u001b[0;32m    890\u001b[0m         for hook in itertools.chain(\n\u001b[0;32m    891\u001b[0m                 \u001b[0m_global_forward_hooks\u001b[0m\u001b[1;33m.\u001b[0m\u001b[0mvalues\u001b[0m\u001b[1;33m(\u001b[0m\u001b[1;33m)\u001b[0m\u001b[1;33m,\u001b[0m\u001b[1;33m\u001b[0m\u001b[1;33m\u001b[0m\u001b[0m\n",
      "\u001b[1;32m~\\anaconda3.1\\lib\\site-packages\\torch\\nn\\modules\\linear.py\u001b[0m in \u001b[0;36mforward\u001b[1;34m(self, input)\u001b[0m\n\u001b[0;32m     92\u001b[0m \u001b[1;33m\u001b[0m\u001b[0m\n\u001b[0;32m     93\u001b[0m     \u001b[1;32mdef\u001b[0m \u001b[0mforward\u001b[0m\u001b[1;33m(\u001b[0m\u001b[0mself\u001b[0m\u001b[1;33m,\u001b[0m \u001b[0minput\u001b[0m\u001b[1;33m:\u001b[0m \u001b[0mTensor\u001b[0m\u001b[1;33m)\u001b[0m \u001b[1;33m->\u001b[0m \u001b[0mTensor\u001b[0m\u001b[1;33m:\u001b[0m\u001b[1;33m\u001b[0m\u001b[1;33m\u001b[0m\u001b[0m\n\u001b[1;32m---> 94\u001b[1;33m         \u001b[1;32mreturn\u001b[0m \u001b[0mF\u001b[0m\u001b[1;33m.\u001b[0m\u001b[0mlinear\u001b[0m\u001b[1;33m(\u001b[0m\u001b[0minput\u001b[0m\u001b[1;33m,\u001b[0m \u001b[0mself\u001b[0m\u001b[1;33m.\u001b[0m\u001b[0mweight\u001b[0m\u001b[1;33m,\u001b[0m \u001b[0mself\u001b[0m\u001b[1;33m.\u001b[0m\u001b[0mbias\u001b[0m\u001b[1;33m)\u001b[0m\u001b[1;33m\u001b[0m\u001b[1;33m\u001b[0m\u001b[0m\n\u001b[0m\u001b[0;32m     95\u001b[0m \u001b[1;33m\u001b[0m\u001b[0m\n\u001b[0;32m     96\u001b[0m     \u001b[1;32mdef\u001b[0m \u001b[0mextra_repr\u001b[0m\u001b[1;33m(\u001b[0m\u001b[0mself\u001b[0m\u001b[1;33m)\u001b[0m \u001b[1;33m->\u001b[0m \u001b[0mstr\u001b[0m\u001b[1;33m:\u001b[0m\u001b[1;33m\u001b[0m\u001b[1;33m\u001b[0m\u001b[0m\n",
      "\u001b[1;32m~\\anaconda3.1\\lib\\site-packages\\torch\\nn\\functional.py\u001b[0m in \u001b[0;36mlinear\u001b[1;34m(input, weight, bias)\u001b[0m\n\u001b[0;32m   1751\u001b[0m     \u001b[1;32mif\u001b[0m \u001b[0mhas_torch_function_variadic\u001b[0m\u001b[1;33m(\u001b[0m\u001b[0minput\u001b[0m\u001b[1;33m,\u001b[0m \u001b[0mweight\u001b[0m\u001b[1;33m)\u001b[0m\u001b[1;33m:\u001b[0m\u001b[1;33m\u001b[0m\u001b[1;33m\u001b[0m\u001b[0m\n\u001b[0;32m   1752\u001b[0m         \u001b[1;32mreturn\u001b[0m \u001b[0mhandle_torch_function\u001b[0m\u001b[1;33m(\u001b[0m\u001b[0mlinear\u001b[0m\u001b[1;33m,\u001b[0m \u001b[1;33m(\u001b[0m\u001b[0minput\u001b[0m\u001b[1;33m,\u001b[0m \u001b[0mweight\u001b[0m\u001b[1;33m)\u001b[0m\u001b[1;33m,\u001b[0m \u001b[0minput\u001b[0m\u001b[1;33m,\u001b[0m \u001b[0mweight\u001b[0m\u001b[1;33m,\u001b[0m \u001b[0mbias\u001b[0m\u001b[1;33m=\u001b[0m\u001b[0mbias\u001b[0m\u001b[1;33m)\u001b[0m\u001b[1;33m\u001b[0m\u001b[1;33m\u001b[0m\u001b[0m\n\u001b[1;32m-> 1753\u001b[1;33m     \u001b[1;32mreturn\u001b[0m \u001b[0mtorch\u001b[0m\u001b[1;33m.\u001b[0m\u001b[0m_C\u001b[0m\u001b[1;33m.\u001b[0m\u001b[0m_nn\u001b[0m\u001b[1;33m.\u001b[0m\u001b[0mlinear\u001b[0m\u001b[1;33m(\u001b[0m\u001b[0minput\u001b[0m\u001b[1;33m,\u001b[0m \u001b[0mweight\u001b[0m\u001b[1;33m,\u001b[0m \u001b[0mbias\u001b[0m\u001b[1;33m)\u001b[0m\u001b[1;33m\u001b[0m\u001b[1;33m\u001b[0m\u001b[0m\n\u001b[0m\u001b[0;32m   1754\u001b[0m \u001b[1;33m\u001b[0m\u001b[0m\n\u001b[0;32m   1755\u001b[0m \u001b[1;33m\u001b[0m\u001b[0m\n",
      "\u001b[1;31mRuntimeError\u001b[0m: mat1 and mat2 shapes cannot be multiplied (2800x28 and 784x10)"
     ]
    }
   ],
   "source": [
    "for images,labels in train_loader:\n",
    "    \n",
    "    print(labels)\n",
    "    print(images.shape)\n",
    "    outputs = model(images)\n",
    "    break"
   ]
  },
  {
   "cell_type": "code",
   "execution_count": 263,
   "metadata": {},
   "outputs": [],
   "source": [
    "class MinstModel(nn.Module):\n",
    "    \n",
    "    def __init__(self):\n",
    "        super().__init__()\n",
    "        self.linear= nn.Linear(input_size,num_class)\n",
    "        \n",
    "    def forward(self,xb):\n",
    "        \n",
    "        xb= xb.reshape(-1,784)\n",
    "        out = self.linear(xb)\n",
    "        return out\n",
    "    \n",
    "model = MinstModel()"
   ]
  },
  {
   "cell_type": "code",
   "execution_count": 264,
   "metadata": {},
   "outputs": [
    {
     "name": "stdout",
     "output_type": "stream",
     "text": [
      "torch.Size([10, 784])\n"
     ]
    }
   ],
   "source": [
    "print(model.linear.weight.shape)"
   ]
  },
  {
   "cell_type": "code",
   "execution_count": 265,
   "metadata": {},
   "outputs": [
    {
     "data": {
      "text/plain": [
       "[Parameter containing:\n",
       " tensor([[ 2.0172e-02,  2.6524e-02, -2.2514e-02,  ..., -1.8131e-02,\n",
       "          -1.2181e-02, -3.3549e-02],\n",
       "         [ 6.4409e-03,  8.6560e-03, -2.1599e-05,  ..., -1.5993e-02,\n",
       "           2.5617e-02, -3.4892e-02],\n",
       "         [-1.0871e-02,  3.3088e-02, -2.7079e-02,  ...,  3.9537e-03,\n",
       "          -9.7031e-03,  1.8536e-03],\n",
       "         ...,\n",
       "         [-3.5478e-02,  3.0814e-02, -6.8295e-03,  ...,  7.3560e-03,\n",
       "           3.0547e-02, -3.2367e-02],\n",
       "         [-9.6961e-03, -3.2379e-02, -2.7888e-02,  ...,  4.8913e-03,\n",
       "          -3.5243e-02,  1.1283e-02],\n",
       "         [-4.1907e-03,  3.5411e-02, -1.5161e-02,  ..., -1.7619e-02,\n",
       "           6.5771e-03,  1.1695e-02]], requires_grad=True),\n",
       " Parameter containing:\n",
       " tensor([ 0.0153,  0.0079, -0.0116,  0.0207,  0.0323,  0.0059,  0.0169, -0.0017,\n",
       "         -0.0310,  0.0035], requires_grad=True)]"
      ]
     },
     "execution_count": 265,
     "metadata": {},
     "output_type": "execute_result"
    }
   ],
   "source": [
    "list(model.parameters())"
   ]
  },
  {
   "cell_type": "code",
   "execution_count": 266,
   "metadata": {},
   "outputs": [],
   "source": [
    "for images,labels in train_loader:\n",
    "    \n",
    "    outputs = model(images)\n",
    "    \n",
    "    break\n",
    "    \n",
    "    "
   ]
  },
  {
   "cell_type": "code",
   "execution_count": 267,
   "metadata": {},
   "outputs": [
    {
     "name": "stdout",
     "output_type": "stream",
     "text": [
      "torch.Size([100, 10])\n"
     ]
    }
   ],
   "source": [
    "print(outputs.shape)"
   ]
  },
  {
   "cell_type": "code",
   "execution_count": 268,
   "metadata": {},
   "outputs": [
    {
     "data": {
      "text/plain": [
       "tensor([[ 0.0118, -0.0647, -0.1010, -0.0222,  0.5114,  0.3320, -0.1123,  0.0475,\n",
       "          0.1765, -0.3266],\n",
       "        [-0.3049,  0.2880,  0.0607, -0.1807,  0.3005,  0.2058,  0.1377, -0.1400,\n",
       "          0.1903, -0.1846]])"
      ]
     },
     "execution_count": 268,
     "metadata": {},
     "output_type": "execute_result"
    }
   ],
   "source": [
    "outputs[:2].data"
   ]
  },
  {
   "cell_type": "code",
   "execution_count": 269,
   "metadata": {},
   "outputs": [],
   "source": [
    "import torch.nn.functional as F"
   ]
  },
  {
   "cell_type": "code",
   "execution_count": 270,
   "metadata": {},
   "outputs": [
    {
     "name": "stdout",
     "output_type": "stream",
     "text": [
      "Sample Probabilities : \n",
      "  tensor([[0.0941, 0.0872, 0.0841, 0.0910, 0.1551, 0.1297, 0.0831, 0.0976, 0.1110,\n",
      "         0.0671],\n",
      "        [0.0695, 0.1258, 0.1002, 0.0787, 0.1273, 0.1158, 0.1082, 0.0820, 0.1141,\n",
      "         0.0784]])\n",
      "Sum: 1.0\n"
     ]
    }
   ],
   "source": [
    "probs = F.softmax(outputs,dim= 1)\n",
    "print('Sample Probabilities : \\n ', probs[:2].data)\n",
    "\n",
    "print('Sum:',torch.sum(probs[0]).item())"
   ]
  },
  {
   "cell_type": "code",
   "execution_count": 271,
   "metadata": {},
   "outputs": [
    {
     "name": "stdout",
     "output_type": "stream",
     "text": [
      "tensor([0.1551, 0.1273, 0.1224, 0.1194, 0.1215, 0.1393, 0.1355, 0.1209, 0.1173,\n",
      "        0.1910, 0.1330, 0.1316, 0.1217, 0.1311, 0.1531, 0.1217, 0.1241, 0.1356,\n",
      "        0.1078, 0.1187, 0.1335, 0.1282, 0.1251, 0.1196, 0.1237, 0.1349, 0.1265,\n",
      "        0.1282, 0.1234, 0.1206, 0.1161, 0.1195, 0.1292, 0.1473, 0.1325, 0.1448,\n",
      "        0.1211, 0.1583, 0.1178, 0.1560, 0.1370, 0.1397, 0.1298, 0.1125, 0.1316,\n",
      "        0.1297, 0.1341, 0.1256, 0.1399, 0.1288, 0.1423, 0.1290, 0.1296, 0.1285,\n",
      "        0.1217, 0.1267, 0.1516, 0.1381, 0.1290, 0.1224, 0.1270, 0.1535, 0.1214,\n",
      "        0.1235, 0.1303, 0.1565, 0.1180, 0.1260, 0.1259, 0.1754, 0.1473, 0.1176,\n",
      "        0.1348, 0.1486, 0.1148, 0.1175, 0.1235, 0.1369, 0.1549, 0.1211, 0.1291,\n",
      "        0.1134, 0.1182, 0.1419, 0.1209, 0.1178, 0.1248, 0.1479, 0.1277, 0.1259,\n",
      "        0.1304, 0.1315, 0.1332, 0.1168, 0.1243, 0.1339, 0.1247, 0.1168, 0.1341,\n",
      "        0.1261], grad_fn=<MaxBackward0>)\n",
      "tensor([4, 4, 4, 5, 1, 0, 4, 4, 4, 4, 4, 0, 1, 1, 4, 4, 8, 0, 1, 4, 2, 1, 1, 4,\n",
      "        2, 1, 1, 4, 8, 5, 5, 8, 4, 4, 4, 4, 1, 5, 8, 1, 1, 1, 1, 2, 4, 1, 1, 4,\n",
      "        8, 1, 8, 4, 2, 4, 2, 4, 4, 4, 4, 4, 1, 4, 5, 4, 6, 4, 8, 1, 8, 4, 0, 7,\n",
      "        8, 4, 4, 7, 6, 4, 4, 0, 2, 4, 8, 4, 8, 4, 3, 4, 8, 4, 4, 2, 8, 7, 1, 4,\n",
      "        1, 4, 4, 4])\n"
     ]
    }
   ],
   "source": [
    "max_probs, preds = torch.max(probs, dim=1)\n",
    "print(max_probs)\n",
    "print(preds)"
   ]
  },
  {
   "cell_type": "code",
   "execution_count": 272,
   "metadata": {},
   "outputs": [
    {
     "data": {
      "text/plain": [
       "tensor([2, 1, 3, 2, 5, 2, 2, 4, 4, 2, 3, 0, 1, 5, 0, 6, 9, 0, 1, 8, 2, 2, 1, 9,\n",
       "        4, 1, 9, 4, 4, 3, 0, 4, 4, 0, 1, 8, 9, 3, 8, 7, 1, 7, 7, 1, 0, 3, 7, 2,\n",
       "        6, 1, 8, 4, 7, 4, 7, 7, 6, 6, 8, 1, 9, 6, 8, 2, 8, 8, 7, 9, 7, 2, 8, 7,\n",
       "        0, 3, 5, 4, 1, 3, 2, 5, 3, 4, 7, 5, 7, 0, 6, 2, 9, 6, 3, 4, 3, 5, 3, 6,\n",
       "        3, 4, 9, 9])"
      ]
     },
     "execution_count": 272,
     "metadata": {},
     "output_type": "execute_result"
    }
   ],
   "source": [
    "labels"
   ]
  },
  {
   "cell_type": "code",
   "execution_count": 273,
   "metadata": {},
   "outputs": [],
   "source": [
    "def accuracy(l1,l2):\n",
    "    \n",
    "    return torch.sum(l1==l2).item()/len(l1)"
   ]
  },
  {
   "cell_type": "code",
   "execution_count": 274,
   "metadata": {},
   "outputs": [
    {
     "data": {
      "text/plain": [
       "0.2"
      ]
     },
     "execution_count": 274,
     "metadata": {},
     "output_type": "execute_result"
    }
   ],
   "source": [
    "accuracy(preds,labels)"
   ]
  },
  {
   "cell_type": "code",
   "execution_count": 275,
   "metadata": {},
   "outputs": [],
   "source": [
    "loss_fn = F.cross_entropy"
   ]
  },
  {
   "cell_type": "code",
   "execution_count": 276,
   "metadata": {},
   "outputs": [
    {
     "name": "stdout",
     "output_type": "stream",
     "text": [
      "tensor(2.3307, grad_fn=<NllLossBackward>)\n"
     ]
    }
   ],
   "source": [
    "loss = loss_fn(outputs,labels)\n",
    "print(loss)"
   ]
  },
  {
   "cell_type": "code",
   "execution_count": 277,
   "metadata": {},
   "outputs": [],
   "source": [
    "learning_rate= 0.001\n",
    "optimizer = torch.optim.SGD(model.parameters(), lr = learning_rate)"
   ]
  },
  {
   "cell_type": "code",
   "execution_count": 278,
   "metadata": {},
   "outputs": [],
   "source": [
    "def loss_batch(model,loss_func, xb,yb, opt= None,metric = None):\n",
    "    \n",
    "    preds = model(xb)\n",
    "    loss = loss_func(preds,yb)\n",
    "    \n",
    "    \n",
    "    if opt is not None:\n",
    "        \n",
    "        loss.backward()\n",
    "        \n",
    "        opt.step()\n",
    "        \n",
    "        opt.zero_grad()\n",
    "        \n",
    "    metric_result = None\n",
    "    \n",
    "    if metric is not None:\n",
    "        \n",
    "        metric_result = metric(preds,yb)\n",
    "        \n",
    "        \n",
    "    return loss.item(), len(xb), metric_result"
   ]
  },
  {
   "cell_type": "code",
   "execution_count": 282,
   "metadata": {},
   "outputs": [],
   "source": [
    "def evaluate (model, loss_fn, valid_dl, metric = None):\n",
    "    \n",
    "    with torch.no_grad():\n",
    "        \n",
    "        results = [loss_batch(model, loss_fn,xb, yb, metric = metric) for xb,yb in valid_dl]\n",
    "        \n",
    "        \n",
    "        losses, nums, metrics = zip(*results)\n",
    "        \n",
    "        \n",
    "        total = np.sum(nums)\n",
    "        \n",
    "        avg_loss = np.sum(np.multiply(losses,nums))/ total\n",
    "        \n",
    "        avg_metric = None\n",
    "        \n",
    "        if metric is not None:\n",
    "            \n",
    "            avg_metric = np.sum(np.multiply(metrics, nums ))/ total\n",
    "            \n",
    "    return avg_loss, total, avg_metric"
   ]
  },
  {
   "cell_type": "code",
   "execution_count": 283,
   "metadata": {},
   "outputs": [],
   "source": [
    "def accuracy(outputs, labels):\n",
    "    \n",
    "    _,preds = torch.max(outputs, dim=1)\n",
    "    \n",
    "    return torch.sum(preds==labels).item()/len(preds)"
   ]
  },
  {
   "cell_type": "code",
   "execution_count": 284,
   "metadata": {},
   "outputs": [
    {
     "name": "stdout",
     "output_type": "stream",
     "text": [
      "Loss: 2.3508, Accuracy : 0.1168\n"
     ]
    }
   ],
   "source": [
    "val_loss, total, val_acc = evaluate(model, loss_fn,val_loader,metric= accuracy)\n",
    "\n",
    "print('Loss: {:.4f}, Accuracy : {:.4f}'.format(val_loss,val_acc))"
   ]
  },
  {
   "cell_type": "code",
   "execution_count": 296,
   "metadata": {},
   "outputs": [],
   "source": [
    "def fit(epochs, model,loss_fn,opt,train_dl,valid_dl,metric = None):\n",
    "    \n",
    "    for epoch in range(epochs):\n",
    "        \n",
    "        for xb,yb in train_dl:\n",
    "            \n",
    "            loss,_,_ = loss_batch(model,loss_fn,xb,yb,opt)\n",
    "            \n",
    "        result = evaluate(model,loss_fn,valid_dl,metric)\n",
    "        val_, total, val_metric = result\n",
    "        \n",
    "        if metric is None:\n",
    "            \n",
    "            print('Epoch [{}/{}],Loss:{:.4f}'.format(epoch+1,epochs,val_loss))\n",
    "            \n",
    "        else:\n",
    "            \n",
    "            print('Epoch [{}/{}],Loss:{:.4f},{}: {:.4f}'.format(epoch+1,epochs,val_loss,metric.__name__,val_metric))"
   ]
  },
  {
   "cell_type": "markdown",
   "metadata": {},
   "source": [
    "model"
   ]
  },
  {
   "cell_type": "code",
   "execution_count": 297,
   "metadata": {},
   "outputs": [],
   "source": [
    "model = MinstModel()\n",
    "optimizer = torch.optim.SGD(model.parameters(), lr= learning_rate)"
   ]
  },
  {
   "cell_type": "code",
   "execution_count": 298,
   "metadata": {},
   "outputs": [
    {
     "name": "stdout",
     "output_type": "stream",
     "text": [
      "Epoch [1/5],Loss:2.3508,accuracy: 0.6536\n",
      "Epoch [2/5],Loss:2.3508,accuracy: 0.7501\n",
      "Epoch [3/5],Loss:2.3508,accuracy: 0.7842\n",
      "Epoch [4/5],Loss:2.3508,accuracy: 0.7995\n",
      "Epoch [5/5],Loss:2.3508,accuracy: 0.8117\n"
     ]
    }
   ],
   "source": [
    "fit(5,model,F.cross_entropy,optimizer,train_loader, val_loader,accuracy)"
   ]
  },
  {
   "cell_type": "code",
   "execution_count": 299,
   "metadata": {},
   "outputs": [
    {
     "name": "stdout",
     "output_type": "stream",
     "text": [
      "Epoch [1/5],Loss:2.3508,accuracy: 0.8193\n",
      "Epoch [2/5],Loss:2.3508,accuracy: 0.8259\n",
      "Epoch [3/5],Loss:2.3508,accuracy: 0.8299\n",
      "Epoch [4/5],Loss:2.3508,accuracy: 0.8340\n",
      "Epoch [5/5],Loss:2.3508,accuracy: 0.8381\n"
     ]
    }
   ],
   "source": [
    "fit(5,model,F.cross_entropy,optimizer,train_loader, val_loader,accuracy)"
   ]
  },
  {
   "cell_type": "code",
   "execution_count": 300,
   "metadata": {},
   "outputs": [
    {
     "name": "stdout",
     "output_type": "stream",
     "text": [
      "Epoch [1/5],Loss:2.3508,accuracy: 0.8418\n",
      "Epoch [2/5],Loss:2.3508,accuracy: 0.8455\n",
      "Epoch [3/5],Loss:2.3508,accuracy: 0.8483\n",
      "Epoch [4/5],Loss:2.3508,accuracy: 0.8499\n",
      "Epoch [5/5],Loss:2.3508,accuracy: 0.8522\n"
     ]
    }
   ],
   "source": [
    "fit(5,model,F.cross_entropy,optimizer,train_loader, val_loader,accuracy)"
   ]
  },
  {
   "cell_type": "code",
   "execution_count": 303,
   "metadata": {},
   "outputs": [
    {
     "data": {
      "text/plain": [
       "[<matplotlib.lines.Line2D at 0x1ac541b6af0>]"
      ]
     },
     "execution_count": 303,
     "metadata": {},
     "output_type": "execute_result"
    },
    {
     "data": {
      "image/png": "[encoded data removed]",
      "text/plain": [
       "<Figure size 432x288 with 1 Axes>"
      ]
     },
     "metadata": {
      "needs_background": "light"
     },
     "output_type": "display_data"
    }
   ],
   "source": [
    "accuracies = [0.6536,.7501,.7842,.7842,.7995,.8117,.8193,.8259,.8299,.8340,.8381,.8418,.8455,.8483,.8499,.8522]\n",
    "plt.plot(accuracies,'-x')\n"
   ]
  },
  {
   "cell_type": "markdown",
   "metadata": {},
   "source": [
    "Testing with inndividual Images"
   ]
  },
  {
   "cell_type": "code",
   "execution_count": 305,
   "metadata": {},
   "outputs": [],
   "source": [
    "test_dataset = MNIST(root='data/',train=False, transform = transforms.ToTensor())"
   ]
  },
  {
   "cell_type": "code",
   "execution_count": 306,
   "metadata": {},
   "outputs": [
    {
     "name": "stdout",
     "output_type": "stream",
     "text": [
      "Shape torch.Size([1, 28, 28])\n",
      "label 7\n"
     ]
    },
    {
     "data": {
      "image/png": "[encoded data removed]",
      "text/plain": [
       "<Figure size 432x288 with 1 Axes>"
      ]
     },
     "metadata": {
      "needs_background": "light"
     },
     "output_type": "display_data"
    }
   ],
   "source": [
    "img, label = test_dataset[0]\n",
    "plt.imshow(img[0],cmap='gray')\n",
    "print('Shape', img.shape)\n",
    "print('label', label)"
   ]
  },
  {
   "cell_type": "code",
   "execution_count": 307,
   "metadata": {},
   "outputs": [
    {
     "data": {
      "text/plain": [
       "torch.Size([1, 1, 28, 28])"
      ]
     },
     "execution_count": 307,
     "metadata": {},
     "output_type": "execute_result"
    }
   ],
   "source": [
    "img.unsqueeze(0).shape"
   ]
  },
  {
   "cell_type": "code",
   "execution_count": 308,
   "metadata": {},
   "outputs": [],
   "source": [
    "def predict_image(img,label):\n",
    "    xb = img.unsqueeze(0)\n",
    "    \n",
    "    yb = model(xb)\n",
    "    \n",
    "    _,preds = torch.max(yb, dim=1)\n",
    "    return preds[0].item()"
   ]
  },
  {
   "cell_type": "code",
   "execution_count": 309,
   "metadata": {},
   "outputs": [
    {
     "name": "stdout",
     "output_type": "stream",
     "text": [
      "label : 9 , Predicted : 7\n"
     ]
    },
    {
     "data": {
      "image/png": "[encoded data removed]",
      "text/plain": [
       "<Figure size 432x288 with 1 Axes>"
      ]
     },
     "metadata": {
      "needs_background": "light"
     },
     "output_type": "display_data"
    }
   ],
   "source": [
    "img, label = test_dataset[1000]\n",
    "plt.imshow(img[0],cmap='gray')\n",
    "print('label :', label,', Predicted :',predict_image(img,model))"
   ]
  },
  {
   "cell_type": "code",
   "execution_count": 310,
   "metadata": {},
   "outputs": [
    {
     "name": "stdout",
     "output_type": "stream",
     "text": [
      "Loss :0.6659, accuracy: 0.8606\n"
     ]
    }
   ],
   "source": [
    "test_loader = DataLoader(test_dataset, batch_size = 200)\n",
    "\n",
    "test_loss,total, test_acc = evaluate(model,loss_fn,test_loader, metric = accuracy)\n",
    "print('Loss :{:.4f}, accuracy: {:.4f}'.format(test_loss,test_acc))"
   ]
  },
  {
   "cell_type": "markdown",
   "metadata": {},
   "source": [
    "# Saving and Load Model"
   ]
  },
  {
   "cell_type": "code",
   "execution_count": 311,
   "metadata": {},
   "outputs": [],
   "source": [
    "torch.save(model.state_dict(), 'minst_logistic.pth')"
   ]
  },
  {
   "cell_type": "code",
   "execution_count": 312,
   "metadata": {},
   "outputs": [
    {
     "data": {
      "text/plain": [
       "OrderedDict([('linear.weight',\n",
       "              tensor([[-3.4863e-02, -2.9637e-03,  5.0653e-03,  ...,  3.1042e-02,\n",
       "                       -2.8909e-02, -1.0264e-02],\n",
       "                      [ 1.3737e-03, -2.0383e-03, -1.5564e-02,  ...,  2.6794e-02,\n",
       "                       -1.4217e-02, -2.5794e-02],\n",
       "                      [-2.4398e-02, -3.2709e-02,  1.7626e-03,  ...,  2.4153e-02,\n",
       "                        2.9140e-02,  7.8681e-03],\n",
       "                      ...,\n",
       "                      [ 3.2664e-03,  2.4436e-02, -9.4693e-03,  ..., -9.2267e-03,\n",
       "                       -1.3564e-02,  3.4407e-02],\n",
       "                      [ 1.0348e-02,  6.8460e-03,  2.7656e-02,  ...,  2.4367e-02,\n",
       "                       -2.4434e-02,  2.4465e-02],\n",
       "                      [-2.6956e-02,  1.4213e-02,  1.6719e-02,  ..., -1.3307e-02,\n",
       "                        3.3620e-02, -6.5606e-05]])),\n",
       "             ('linear.bias',\n",
       "              tensor([-0.0155,  0.0612, -0.0037,  0.0050, -0.0094,  0.0431, -0.0159,  0.0294,\n",
       "                      -0.0765,  0.0039]))])"
      ]
     },
     "execution_count": 312,
     "metadata": {},
     "output_type": "execute_result"
    }
   ],
   "source": [
    "model.state_dict()"
   ]
  },
  {
   "cell_type": "code",
   "execution_count": 315,
   "metadata": {},
   "outputs": [
    {
     "data": {
      "text/plain": [
       "OrderedDict([('linear.weight',\n",
       "              tensor([[-3.4863e-02, -2.9637e-03,  5.0653e-03,  ...,  3.1042e-02,\n",
       "                       -2.8909e-02, -1.0264e-02],\n",
       "                      [ 1.3737e-03, -2.0383e-03, -1.5564e-02,  ...,  2.6794e-02,\n",
       "                       -1.4217e-02, -2.5794e-02],\n",
       "                      [-2.4398e-02, -3.2709e-02,  1.7626e-03,  ...,  2.4153e-02,\n",
       "                        2.9140e-02,  7.8681e-03],\n",
       "                      ...,\n",
       "                      [ 3.2664e-03,  2.4436e-02, -9.4693e-03,  ..., -9.2267e-03,\n",
       "                       -1.3564e-02,  3.4407e-02],\n",
       "                      [ 1.0348e-02,  6.8460e-03,  2.7656e-02,  ...,  2.4367e-02,\n",
       "                       -2.4434e-02,  2.4465e-02],\n",
       "                      [-2.6956e-02,  1.4213e-02,  1.6719e-02,  ..., -1.3307e-02,\n",
       "                        3.3620e-02, -6.5606e-05]])),\n",
       "             ('linear.bias',\n",
       "              tensor([-0.0155,  0.0612, -0.0037,  0.0050, -0.0094,  0.0431, -0.0159,  0.0294,\n",
       "                      -0.0765,  0.0039]))])"
      ]
     },
     "execution_count": 315,
     "metadata": {},
     "output_type": "execute_result"
    }
   ],
   "source": [
    "model2 = MinstModel()\n",
    "model2.load_state_dict(torch.load('minst_logistic.pth'))\n",
    "model2.state_dict()"
   ]
  },
  {
   "cell_type": "code",
   "execution_count": 316,
   "metadata": {},
   "outputs": [
    {
     "name": "stdout",
     "output_type": "stream",
     "text": [
      "Loss :0.6659, accuracy: 0.8606\n"
     ]
    }
   ],
   "source": [
    "test_loss, total, test_acc = evaluate(model2, loss_fn,test_loader, metric= accuracy)\n",
    "print('Loss :{:.4f}, accuracy: {:.4f}'.format(test_loss,test_acc))\n"
   ]
  },
  {
   "cell_type": "code",
   "execution_count": null,
   "metadata": {},
   "outputs": [],
   "source": []
  }
 ],
 "metadata": {
  "kernelspec": {
   "display_name": "Python 3",
   "language": "python",
   "name": "python3"
  },
  "language_info": {
   "codemirror_mode": {
    "name": "ipython",
    "version": 3
   },
   "file_extension": ".py",
   "mimetype": "text/x-python",
   "name": "python",
   "nbconvert_exporter": "python",
   "pygments_lexer": "ipython3",
   "version": "3.8.5"
  }
 },
 "nbformat": 4,
 "nbformat_minor": 4
}
